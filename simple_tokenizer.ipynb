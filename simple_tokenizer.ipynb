{
  "nbformat": 4,
  "nbformat_minor": 0,
  "metadata": {
    "colab": {
      "provenance": []
    },
    "kernelspec": {
      "name": "python3",
      "display_name": "Python 3"
    },
    "language_info": {
      "name": "python"
    }
  },
  "cells": [
    {
      "cell_type": "code",
      "execution_count": 2,
      "metadata": {
        "colab": {
          "base_uri": "https://localhost:8080/"
        },
        "id": "bTLZgCRc7RqR",
        "outputId": "6bcf7136-3819-443c-e732-b8f3c2ad7801"
      },
      "outputs": [
        {
          "output_type": "stream",
          "name": "stdout",
          "text": [
            "Requirement already satisfied: uv in /usr/local/lib/python3.12/dist-packages (0.8.12)\n"
          ]
        }
      ],
      "source": [
        "# install the package manager uv\n",
        "!pip install uv"
      ]
    },
    {
      "cell_type": "code",
      "source": [
        "# installing the required packages\n",
        "!uv pip install -r https://raw.githubusercontent.com/Josna-cardoza/simple-tokenizer/refs/heads/main/requirements.txt --system"
      ],
      "metadata": {
        "colab": {
          "base_uri": "https://localhost:8080/"
        },
        "id": "IW0Grdi1Qk6Z",
        "outputId": "35a7e1cd-ffc3-48ec-aeca-0b8fb44776a8"
      },
      "execution_count": 3,
      "outputs": [
        {
          "output_type": "stream",
          "name": "stdout",
          "text": [
            "\u001b[2mUsing Python 3.12.11 environment at: /usr\u001b[0m\n",
            "\u001b[2K\u001b[2mResolved \u001b[1m149 packages\u001b[0m \u001b[2min 1.09s\u001b[0m\u001b[0m\n",
            "\u001b[2K\u001b[37m⠙\u001b[0m \u001b[2mPreparing packages...\u001b[0m (0/21)\n",
            "\u001b[2K\u001b[1A\u001b[37m⠙\u001b[0m \u001b[2mPreparing packages...\u001b[0m (0/21)\n",
            "\u001b[2K\u001b[1A\u001b[37m⠙\u001b[0m \u001b[2mPreparing packages...\u001b[0m (0/21)\n",
            "\u001b[2K\u001b[1A\u001b[37m⠙\u001b[0m \u001b[2mPreparing packages...\u001b[0m (0/21)\n",
            "\u001b[2masync-lru           \u001b[0m \u001b[32m------------------------------\u001b[2m\u001b[0m\u001b[0m 5.93 KiB/5.93 KiB\n",
            "\u001b[2K\u001b[2A\u001b[37m⠙\u001b[0m \u001b[2mPreparing packages...\u001b[0m (0/21)\n",
            "\u001b[2masync-lru           \u001b[0m \u001b[32m------------------------------\u001b[2m\u001b[0m\u001b[0m 5.93 KiB/5.93 KiB\n",
            "\u001b[2K\u001b[2A\u001b[37m⠙\u001b[0m \u001b[2mPreparing packages...\u001b[0m (0/21)\n",
            "\u001b[2masync-lru           \u001b[0m \u001b[32m------------------------------\u001b[2m\u001b[0m\u001b[0m 5.93 KiB/5.93 KiB\n",
            "\u001b[2K\u001b[2A\u001b[37m⠙\u001b[0m \u001b[2mPreparing packages...\u001b[0m (0/21)\n",
            "\u001b[2masync-lru           \u001b[0m \u001b[32m------------------------------\u001b[2m\u001b[0m\u001b[0m 5.93 KiB/5.93 KiB\n",
            "\u001b[2mfqdn                \u001b[0m \u001b[32m\u001b[2m------------------------------\u001b[0m\u001b[0m     0 B/8.91 KiB\n",
            "\u001b[2K\u001b[3A\u001b[37m⠙\u001b[0m \u001b[2mPreparing packages...\u001b[0m (0/21)\n",
            "\u001b[2masync-lru           \u001b[0m \u001b[32m------------------------------\u001b[2m\u001b[0m\u001b[0m 5.93 KiB/5.93 KiB\n",
            "\u001b[2mfqdn                \u001b[0m \u001b[32m\u001b[2m------------------------------\u001b[0m\u001b[0m     0 B/8.91 KiB\n",
            "\u001b[2K\u001b[3A\u001b[37m⠙\u001b[0m \u001b[2mPreparing packages...\u001b[0m (0/21)\n",
            "\u001b[2masync-lru           \u001b[0m \u001b[32m------------------------------\u001b[2m\u001b[0m\u001b[0m 5.93 KiB/5.93 KiB\n",
            "\u001b[2mfqdn                \u001b[0m \u001b[32m\u001b[2m------------------------------\u001b[0m\u001b[0m     0 B/8.91 KiB\n",
            "\u001b[2K\u001b[3A\u001b[37m⠙\u001b[0m \u001b[2mPreparing packages...\u001b[0m (0/21)\n",
            "\u001b[2masync-lru           \u001b[0m \u001b[32m------------------------------\u001b[2m\u001b[0m\u001b[0m 5.93 KiB/5.93 KiB\n",
            "\u001b[2mfqdn                \u001b[0m \u001b[32m\u001b[2m------------------------------\u001b[0m\u001b[0m     0 B/8.91 KiB\n",
            "\u001b[2K\u001b[3A\u001b[37m⠙\u001b[0m \u001b[2mPreparing packages...\u001b[0m (0/21)\n",
            "\u001b[2masync-lru           \u001b[0m \u001b[32m------------------------------\u001b[2m\u001b[0m\u001b[0m 5.93 KiB/5.93 KiB\n",
            "\u001b[2mfqdn                \u001b[0m \u001b[32m\u001b[2m------------------------------\u001b[0m\u001b[0m     0 B/8.91 KiB\n",
            "\u001b[2mpython-json-logger  \u001b[0m \u001b[32m\u001b[2m------------------------------\u001b[0m\u001b[0m     0 B/14.81 KiB\n",
            "\u001b[2K\u001b[4A\u001b[37m⠙\u001b[0m \u001b[2mPreparing packages...\u001b[0m (0/21)\n",
            "\u001b[2masync-lru           \u001b[0m \u001b[32m------------------------------\u001b[2m\u001b[0m\u001b[0m 5.93 KiB/5.93 KiB\n",
            "\u001b[2mfqdn                \u001b[0m \u001b[32m\u001b[2m------------------------------\u001b[0m\u001b[0m     0 B/8.91 KiB\n",
            "\u001b[2mpython-json-logger  \u001b[0m \u001b[32m\u001b[2m------------------------------\u001b[0m\u001b[0m     0 B/14.81 KiB\n",
            "\u001b[2K\u001b[4A\u001b[37m⠙\u001b[0m \u001b[2mPreparing packages...\u001b[0m (0/21)\n",
            "\u001b[2masync-lru           \u001b[0m \u001b[32m------------------------------\u001b[2m\u001b[0m\u001b[0m 5.93 KiB/5.93 KiB\n",
            "\u001b[2mfqdn                \u001b[0m \u001b[32m\u001b[2m------------------------------\u001b[0m\u001b[0m     0 B/8.91 KiB\n",
            "\u001b[2mpython-json-logger  \u001b[0m \u001b[32m\u001b[2m------------------------------\u001b[0m\u001b[0m     0 B/14.81 KiB\n",
            "\u001b[2K\u001b[4A\u001b[37m⠙\u001b[0m \u001b[2mPreparing packages...\u001b[0m (0/21)\n",
            "\u001b[2masync-lru           \u001b[0m \u001b[32m------------------------------\u001b[2m\u001b[0m\u001b[0m 5.93 KiB/5.93 KiB\n",
            "\u001b[2mfqdn                \u001b[0m \u001b[32m\u001b[2m------------------------------\u001b[0m\u001b[0m     0 B/8.91 KiB\n",
            "\u001b[2mpython-json-logger  \u001b[0m \u001b[32m\u001b[2m------------------------------\u001b[0m\u001b[0m     0 B/14.81 KiB\n",
            "\u001b[2K\u001b[4A\u001b[37m⠙\u001b[0m \u001b[2mPreparing packages...\u001b[0m (0/21)\n",
            "\u001b[2masync-lru           \u001b[0m \u001b[32m------------------------------\u001b[2m\u001b[0m\u001b[0m 5.93 KiB/5.93 KiB\n",
            "\u001b[2mfqdn                \u001b[0m \u001b[32m\u001b[2m------------------------------\u001b[0m\u001b[0m     0 B/8.91 KiB\n",
            "\u001b[2mpython-json-logger  \u001b[0m \u001b[32m\u001b[2m------------------------------\u001b[0m\u001b[0m     0 B/14.81 KiB\n",
            "\u001b[2K\u001b[4A\u001b[37m⠙\u001b[0m \u001b[2mPreparing packages...\u001b[0m (0/21)\n",
            "\u001b[2masync-lru           \u001b[0m \u001b[32m------------------------------\u001b[2m\u001b[0m\u001b[0m 5.93 KiB/5.93 KiB\n",
            "\u001b[2mrfc3987-syntax      \u001b[0m \u001b[32m\u001b[2m------------------------------\u001b[0m\u001b[0m     0 B/7.86 KiB\n",
            "\u001b[2mfqdn                \u001b[0m \u001b[32m\u001b[2m------------------------------\u001b[0m\u001b[0m     0 B/8.91 KiB\n",
            "\u001b[2mpython-json-logger  \u001b[0m \u001b[32m\u001b[2m------------------------------\u001b[0m\u001b[0m     0 B/14.81 KiB\n",
            "\u001b[2K\u001b[5A\u001b[37m⠙\u001b[0m \u001b[2mPreparing packages...\u001b[0m (0/21)\n",
            "\u001b[2masync-lru           \u001b[0m \u001b[32m------------------------------\u001b[2m\u001b[0m\u001b[0m 5.93 KiB/5.93 KiB\n",
            "\u001b[2mrfc3987-syntax      \u001b[0m \u001b[32m\u001b[2m------------------------------\u001b[0m\u001b[0m     0 B/7.86 KiB\n",
            "\u001b[2mfqdn                \u001b[0m \u001b[32m\u001b[2m------------------------------\u001b[0m\u001b[0m     0 B/8.91 KiB\n",
            "\u001b[2mpython-json-logger  \u001b[0m \u001b[32m\u001b[2m------------------------------\u001b[0m\u001b[0m     0 B/14.81 KiB\n",
            "\u001b[2K\u001b[5A\u001b[37m⠙\u001b[0m \u001b[2mPreparing packages...\u001b[0m (0/21)\n",
            "\u001b[2mrfc3339-validator   \u001b[0m \u001b[32m------------------------------\u001b[2m\u001b[0m\u001b[0m 3.41 KiB/3.41 KiB\n",
            "\u001b[2mrfc3986-validator   \u001b[0m \u001b[32m------------------------------\u001b[2m\u001b[0m\u001b[0m 4.14 KiB/4.14 KiB\n",
            "\u001b[2masync-lru           \u001b[0m \u001b[32m------------------------------\u001b[2m\u001b[0m\u001b[0m 5.93 KiB/5.93 KiB\n",
            "\u001b[2mrfc3987-syntax      \u001b[0m \u001b[32m------------------------------\u001b[2m\u001b[0m\u001b[0m 7.86 KiB/7.86 KiB\n",
            "\u001b[2mfqdn                \u001b[0m \u001b[32m------------------------------\u001b[2m\u001b[0m\u001b[0m 8.91 KiB/8.91 KiB\n",
            "\u001b[2mpython-json-logger  \u001b[0m \u001b[32m------------------------------\u001b[2m\u001b[0m\u001b[0m 14.81 KiB/14.81 KiB\n",
            "\u001b[2mjupyter-events      \u001b[0m \u001b[32m\u001b[2m------------------------------\u001b[0m\u001b[0m     0 B/18.97 KiB\n",
            "\u001b[2mjson5               \u001b[0m \u001b[32m-------------\u001b[2m-----------------\u001b[0m\u001b[0m 14.95 KiB/35.27 KiB\n",
            "\u001b[2marrow               \u001b[0m \u001b[32m\u001b[2m------------------------------\u001b[0m\u001b[0m     0 B/64.86 KiB\n",
            "\u001b[2mlark                \u001b[0m \u001b[32m\u001b[2m------------------------------\u001b[0m\u001b[0m     0 B/108.43 KiB\n",
            "\u001b[2mjedi                \u001b[0m \u001b[32m\u001b[2m------------------------------\u001b[0m\u001b[0m     0 B/1.50 MiB\n",
            "\u001b[2K\u001b[12A\u001b[37m⠙\u001b[0m \u001b[2mPreparing packages...\u001b[0m (0/21)\n",
            "\u001b[2mrfc3339-validator   \u001b[0m \u001b[32m------------------------------\u001b[2m\u001b[0m\u001b[0m 3.41 KiB/3.41 KiB\n",
            "\u001b[2mrfc3986-validator   \u001b[0m \u001b[32m------------------------------\u001b[2m\u001b[0m\u001b[0m 4.14 KiB/4.14 KiB\n",
            "\u001b[2masync-lru           \u001b[0m \u001b[32m------------------------------\u001b[2m\u001b[0m\u001b[0m 5.93 KiB/5.93 KiB\n",
            "\u001b[2mfqdn                \u001b[0m \u001b[32m------------------------------\u001b[2m\u001b[0m\u001b[0m 8.91 KiB/8.91 KiB\n",
            "\u001b[2mpython-json-logger  \u001b[0m \u001b[32m------------------------------\u001b[2m\u001b[0m\u001b[0m 14.81 KiB/14.81 KiB\n",
            "\u001b[2mjupyter-events      \u001b[0m \u001b[32m\u001b[2m------------------------------\u001b[0m\u001b[0m     0 B/18.97 KiB\n",
            "\u001b[2mjson5               \u001b[0m \u001b[32m-------------\u001b[2m-----------------\u001b[0m\u001b[0m 14.95 KiB/35.27 KiB\n",
            "\u001b[2marrow               \u001b[0m \u001b[32m-------\u001b[2m-----------------------\u001b[0m\u001b[0m 14.96 KiB/64.86 KiB\n",
            "\u001b[2mlark                \u001b[0m \u001b[32m\u001b[2m------------------------------\u001b[0m\u001b[0m     0 B/108.43 KiB\n",
            "\u001b[2mjedi                \u001b[0m \u001b[32m\u001b[2m------------------------------\u001b[0m\u001b[0m     0 B/1.50 MiB\n",
            "\u001b[2K\u001b[11A\u001b[37m⠙\u001b[0m \u001b[2mPreparing packages...\u001b[0m (0/21)\n",
            "\u001b[2mrfc3339-validator   \u001b[0m \u001b[32m------------------------------\u001b[2m\u001b[0m\u001b[0m 3.41 KiB/3.41 KiB\n",
            "\u001b[2mrfc3986-validator   \u001b[0m \u001b[32m------------------------------\u001b[2m\u001b[0m\u001b[0m 4.14 KiB/4.14 KiB\n",
            "\u001b[2mfqdn                \u001b[0m \u001b[32m------------------------------\u001b[2m\u001b[0m\u001b[0m 8.91 KiB/8.91 KiB\n",
            "\u001b[2mpython-json-logger  \u001b[0m \u001b[32m------------------------------\u001b[2m\u001b[0m\u001b[0m 14.81 KiB/14.81 KiB\n",
            "\u001b[2mjupyter-events      \u001b[0m \u001b[32m------------------------\u001b[2m------\u001b[0m\u001b[0m 14.94 KiB/18.97 KiB\n",
            "\u001b[2mjson5               \u001b[0m \u001b[32m-------------\u001b[2m-----------------\u001b[0m\u001b[0m 14.95 KiB/35.27 KiB\n",
            "\u001b[2marrow               \u001b[0m \u001b[32m-------\u001b[2m-----------------------\u001b[0m\u001b[0m 14.96 KiB/64.86 KiB\n",
            "\u001b[2mlark                \u001b[0m \u001b[32m-----\u001b[2m-------------------------\u001b[0m\u001b[0m 14.95 KiB/108.43 KiB\n",
            "\u001b[2mjedi                \u001b[0m \u001b[32m-\u001b[2m-----------------------------\u001b[0m\u001b[0m 14.91 KiB/1.50 MiB\n",
            "\u001b[2K\u001b[10A\u001b[37m⠙\u001b[0m \u001b[2mPreparing packages...\u001b[0m (0/21)\n",
            "\u001b[2mrfc3339-validator   \u001b[0m \u001b[32m------------------------------\u001b[2m\u001b[0m\u001b[0m 3.41 KiB/3.41 KiB\n",
            "\u001b[2mrfc3986-validator   \u001b[0m \u001b[32m------------------------------\u001b[2m\u001b[0m\u001b[0m 4.14 KiB/4.14 KiB\n",
            "\u001b[2mpython-json-logger  \u001b[0m \u001b[32m------------------------------\u001b[2m\u001b[0m\u001b[0m 14.81 KiB/14.81 KiB\n",
            "\u001b[2mjupyter-events      \u001b[0m \u001b[32m------------------------\u001b[2m------\u001b[0m\u001b[0m 14.94 KiB/18.97 KiB\n",
            "\u001b[2mjson5               \u001b[0m \u001b[32m-------------\u001b[2m-----------------\u001b[0m\u001b[0m 14.95 KiB/35.27 KiB\n",
            "\u001b[2marrow               \u001b[0m \u001b[32m-------\u001b[2m-----------------------\u001b[0m\u001b[0m 14.96 KiB/64.86 KiB\n",
            "\u001b[2mlark                \u001b[0m \u001b[32m-----\u001b[2m-------------------------\u001b[0m\u001b[0m 14.95 KiB/108.43 KiB\n",
            "\u001b[2mjedi                \u001b[0m \u001b[32m-\u001b[2m-----------------------------\u001b[0m\u001b[0m 14.91 KiB/1.50 MiB\n",
            "\u001b[2K\u001b[9A\u001b[37m⠙\u001b[0m \u001b[2mPreparing packages...\u001b[0m (0/21)\n",
            "\u001b[2mrfc3339-validator   \u001b[0m \u001b[32m------------------------------\u001b[2m\u001b[0m\u001b[0m 3.41 KiB/3.41 KiB\n",
            "\u001b[2mrfc3986-validator   \u001b[0m \u001b[32m------------------------------\u001b[2m\u001b[0m\u001b[0m 4.14 KiB/4.14 KiB\n",
            "\u001b[2mjupyter-events      \u001b[0m \u001b[32m------------------------\u001b[2m------\u001b[0m\u001b[0m 14.94 KiB/18.97 KiB\n",
            "\u001b[2mjson5               \u001b[0m \u001b[32m-------------\u001b[2m-----------------\u001b[0m\u001b[0m 14.95 KiB/35.27 KiB\n",
            "\u001b[2marrow               \u001b[0m \u001b[32m-------\u001b[2m-----------------------\u001b[0m\u001b[0m 14.96 KiB/64.86 KiB\n",
            "\u001b[2mlark                \u001b[0m \u001b[32m-----\u001b[2m-------------------------\u001b[0m\u001b[0m 14.95 KiB/108.43 KiB\n",
            "\u001b[2mjedi                \u001b[0m \u001b[32m-\u001b[2m-----------------------------\u001b[0m\u001b[0m 14.91 KiB/1.50 MiB\n",
            "\u001b[2K\u001b[8A\u001b[37m⠙\u001b[0m \u001b[2mPreparing packages...\u001b[0m (0/21)\n",
            "\u001b[2mrfc3986-validator   \u001b[0m \u001b[32m------------------------------\u001b[2m\u001b[0m\u001b[0m 4.14 KiB/4.14 KiB\n",
            "\u001b[2mjupyter-events      \u001b[0m \u001b[32m------------------------\u001b[2m------\u001b[0m\u001b[0m 14.94 KiB/18.97 KiB\n",
            "\u001b[2mjson5               \u001b[0m \u001b[32m-------------\u001b[2m-----------------\u001b[0m\u001b[0m 14.95 KiB/35.27 KiB\n",
            "\u001b[2marrow               \u001b[0m \u001b[32m-------\u001b[2m-----------------------\u001b[0m\u001b[0m 14.96 KiB/64.86 KiB\n",
            "\u001b[2mlark                \u001b[0m \u001b[32m-----\u001b[2m-------------------------\u001b[0m\u001b[0m 14.95 KiB/108.43 KiB\n",
            "\u001b[2mjedi                \u001b[0m \u001b[32m-\u001b[2m-----------------------------\u001b[0m\u001b[0m 14.91 KiB/1.50 MiB\n",
            "\u001b[2K\u001b[7A\u001b[37m⠙\u001b[0m \u001b[2mPreparing packages...\u001b[0m (0/21)\n",
            "\u001b[2mrfc3986-validator   \u001b[0m \u001b[32m------------------------------\u001b[2m\u001b[0m\u001b[0m 4.14 KiB/4.14 KiB\n",
            "\u001b[2mjupyter-events      \u001b[0m \u001b[32m------------------------\u001b[2m------\u001b[0m\u001b[0m 14.94 KiB/18.97 KiB\n",
            "\u001b[2marrow               \u001b[0m \u001b[32m-------\u001b[2m-----------------------\u001b[0m\u001b[0m 14.96 KiB/64.86 KiB\n",
            "\u001b[2mlark                \u001b[0m \u001b[32m-----\u001b[2m-------------------------\u001b[0m\u001b[0m 14.95 KiB/108.43 KiB\n",
            "\u001b[2mjedi                \u001b[0m \u001b[32m-\u001b[2m-----------------------------\u001b[0m\u001b[0m 14.91 KiB/1.50 MiB\n",
            "\u001b[2K\u001b[6A\u001b[37m⠙\u001b[0m \u001b[2mPreparing packages...\u001b[0m (0/21)\n",
            "\u001b[2mrfc3986-validator   \u001b[0m \u001b[32m------------------------------\u001b[2m\u001b[0m\u001b[0m 4.14 KiB/4.14 KiB\n",
            "\u001b[2muri-template        \u001b[0m \u001b[32m------------------------------\u001b[2m\u001b[0m\u001b[0m 10.88 KiB/10.88 KiB\n",
            "\u001b[2marrow               \u001b[0m \u001b[32m----------------------\u001b[2m--------\u001b[0m\u001b[0m 46.96 KiB/64.86 KiB\n",
            "\u001b[2mlark                \u001b[0m \u001b[32m-----\u001b[2m-------------------------\u001b[0m\u001b[0m 14.95 KiB/108.43 KiB\n",
            "\u001b[2mjupyter-server      \u001b[0m \u001b[32m---\u001b[2m---------------------------\u001b[0m\u001b[0m 30.94 KiB/377.84 KiB\n",
            "\u001b[2mjedi                \u001b[0m \u001b[32m-\u001b[2m-----------------------------\u001b[0m\u001b[0m 14.91 KiB/1.50 MiB\n",
            "\u001b[2K\u001b[7A\u001b[37m⠙\u001b[0m \u001b[2mPreparing packages...\u001b[0m (0/21)\n",
            "\u001b[2muri-template        \u001b[0m \u001b[32m------------------------------\u001b[2m\u001b[0m\u001b[0m 10.88 KiB/10.88 KiB\n",
            "\u001b[2marrow               \u001b[0m \u001b[32m----------------------\u001b[2m--------\u001b[0m\u001b[0m 46.96 KiB/64.86 KiB\n",
            "\u001b[2mlark                \u001b[0m \u001b[32m------------\u001b[2m------------------\u001b[0m\u001b[0m 40.33 KiB/108.43 KiB\n",
            "\u001b[2mjupyter-server      \u001b[0m \u001b[32m---\u001b[2m---------------------------\u001b[0m\u001b[0m 30.94 KiB/377.84 KiB\n",
            "\u001b[2mjedi                \u001b[0m \u001b[32m-\u001b[2m-----------------------------\u001b[0m\u001b[0m 14.91 KiB/1.50 MiB\n",
            "\u001b[2K\u001b[6A\u001b[37m⠙\u001b[0m \u001b[2mPreparing packages...\u001b[0m (0/21)\n",
            "\u001b[2muri-template        \u001b[0m \u001b[32m------------------------------\u001b[2m\u001b[0m\u001b[0m 10.88 KiB/10.88 KiB\n",
            "\u001b[2marrow               \u001b[0m \u001b[32m------------------------------\u001b[2m\u001b[0m\u001b[0m 62.96 KiB/64.86 KiB\n",
            "\u001b[2mlark                \u001b[0m \u001b[32m---------------------\u001b[2m---------\u001b[0m\u001b[0m 72.33 KiB/108.43 KiB\n",
            "\u001b[2mjupyter-server      \u001b[0m \u001b[32m-----\u001b[2m-------------------------\u001b[0m\u001b[0m 62.94 KiB/377.84 KiB\n",
            "\u001b[2mjedi                \u001b[0m \u001b[32m--\u001b[2m----------------------------\u001b[0m\u001b[0m 75.18 KiB/1.50 MiB\n",
            "\u001b[2K\u001b[6A\u001b[37m⠙\u001b[0m \u001b[2mPreparing packages...\u001b[0m (0/21)\n",
            "\u001b[2muri-template        \u001b[0m \u001b[32m------------------------------\u001b[2m\u001b[0m\u001b[0m 10.88 KiB/10.88 KiB\n",
            "\u001b[2marrow               \u001b[0m \u001b[32m------------------------------\u001b[2m\u001b[0m\u001b[0m 62.96 KiB/64.86 KiB\n",
            "\u001b[2mlark                \u001b[0m \u001b[32m---------------------\u001b[2m---------\u001b[0m\u001b[0m 72.33 KiB/108.43 KiB\n",
            "\u001b[2mjupyter-server      \u001b[0m \u001b[32m-----\u001b[2m-------------------------\u001b[0m\u001b[0m 62.94 KiB/377.84 KiB\n",
            "\u001b[2mjedi                \u001b[0m \u001b[32m--\u001b[2m----------------------------\u001b[0m\u001b[0m 75.18 KiB/1.50 MiB\n",
            "\u001b[2K\u001b[6A\u001b[37m⠙\u001b[0m \u001b[2mPreparing packages...\u001b[0m (0/21)\n",
            "\u001b[2muri-template         \u001b[0m \u001b[32m------------------------------\u001b[2m\u001b[0m\u001b[0m 10.88 KiB/10.88 KiB\n",
            "\u001b[2mtypes-python-dateutil\u001b[0m \u001b[32m--------------------------\u001b[2m----\u001b[0m\u001b[0m 14.86 KiB/17.29 KiB\n",
            "\u001b[2mlark                 \u001b[0m \u001b[32m---------------------\u001b[2m---------\u001b[0m\u001b[0m 72.33 KiB/108.43 KiB\n",
            "\u001b[2mjupyter-server       \u001b[0m \u001b[32m-----\u001b[2m-------------------------\u001b[0m\u001b[0m 62.94 KiB/377.84 KiB\n",
            "\u001b[2mjedi                 \u001b[0m \u001b[32m--\u001b[2m----------------------------\u001b[0m\u001b[0m 75.18 KiB/1.50 MiB\n",
            "\u001b[2K\u001b[6A\u001b[37m⠙\u001b[0m \u001b[2mPreparing packages...\u001b[0m (0/21)\n",
            "\u001b[2muri-template         \u001b[0m \u001b[32m------------------------------\u001b[2m\u001b[0m\u001b[0m 10.88 KiB/10.88 KiB\n",
            "\u001b[2mtypes-python-dateutil\u001b[0m \u001b[32m--------------------------\u001b[2m----\u001b[0m\u001b[0m 14.86 KiB/17.29 KiB\n",
            "\u001b[2mjupyter-server       \u001b[0m \u001b[32m-----\u001b[2m-------------------------\u001b[0m\u001b[0m 62.94 KiB/377.84 KiB\n",
            "\u001b[2mjedi                 \u001b[0m \u001b[32m--\u001b[2m----------------------------\u001b[0m\u001b[0m 75.18 KiB/1.50 MiB\n",
            "\u001b[2K\u001b[5A\u001b[37m⠙\u001b[0m \u001b[2mPreparing packages...\u001b[0m (0/21)\n",
            "\u001b[2muri-template         \u001b[0m \u001b[32m------------------------------\u001b[2m\u001b[0m\u001b[0m 10.88 KiB/10.88 KiB\n",
            "\u001b[2mjupyter-server       \u001b[0m \u001b[32m----------\u001b[2m--------------------\u001b[0m\u001b[0m 125.17 KiB/377.84 KiB\n",
            "\u001b[2mjedi                 \u001b[0m \u001b[32m--\u001b[2m----------------------------\u001b[0m\u001b[0m 75.18 KiB/1.50 MiB\n",
            "\u001b[2K\u001b[4A\u001b[37m⠙\u001b[0m \u001b[2mPreparing packages...\u001b[0m (0/21)\n",
            "\u001b[2muri-template         \u001b[0m \u001b[32m------------------------------\u001b[2m\u001b[0m\u001b[0m 10.88 KiB/10.88 KiB\n",
            "\u001b[2mjupyter-server       \u001b[0m \u001b[32m-----------------\u001b[2m-------------\u001b[0m\u001b[0m 206.21 KiB/377.84 KiB\n",
            "\u001b[2mjedi                 \u001b[0m \u001b[32m--\u001b[2m----------------------------\u001b[0m\u001b[0m 75.18 KiB/1.50 MiB\n",
            "\u001b[2K\u001b[4A\u001b[37m⠙\u001b[0m \u001b[2mPreparing packages...\u001b[0m (0/21)\n",
            "\u001b[2muri-template         \u001b[0m \u001b[32m------------------------------\u001b[2m\u001b[0m\u001b[0m 10.88 KiB/10.88 KiB\n",
            "\u001b[2mjupyterlab-server    \u001b[0m \u001b[32m------------------------------\u001b[2m\u001b[0m\u001b[0m 58.30 KiB/58.30 KiB\n",
            "\u001b[2mjedi                 \u001b[0m \u001b[32m--\u001b[2m----------------------------\u001b[0m\u001b[0m 75.18 KiB/1.50 MiB\n",
            "\u001b[2K\u001b[4A\u001b[37m⠙\u001b[0m \u001b[2mPreparing packages...\u001b[0m (0/21)\n",
            "\u001b[2muri-template         \u001b[0m \u001b[32m------------------------------\u001b[2m\u001b[0m\u001b[0m 10.88 KiB/10.88 KiB\n",
            "\u001b[2mjupyterlab-server    \u001b[0m \u001b[32m------------------------------\u001b[2m\u001b[0m\u001b[0m 58.30 KiB/58.30 KiB\n",
            "\u001b[2mjedi                 \u001b[0m \u001b[32m---\u001b[2m---------------------------\u001b[0m\u001b[0m 139.18 KiB/1.50 MiB\n",
            "\u001b[2K\u001b[4A\u001b[37m⠙\u001b[0m \u001b[2mPreparing packages...\u001b[0m (0/21)\n",
            "\u001b[2muri-template         \u001b[0m \u001b[32m------------------------------\u001b[2m\u001b[0m\u001b[0m 10.88 KiB/10.88 KiB\n",
            "\u001b[2mjedi                 \u001b[0m \u001b[32m----\u001b[2m--------------------------\u001b[0m\u001b[0m 187.18 KiB/1.50 MiB\n",
            "\u001b[2K\u001b[3A\u001b[37m⠙\u001b[0m \u001b[2mPreparing packages...\u001b[0m (0/21)\n",
            "\u001b[2muri-template         \u001b[0m \u001b[32m------------------------------\u001b[2m\u001b[0m\u001b[0m 10.88 KiB/10.88 KiB\n",
            "\u001b[2mjedi                 \u001b[0m \u001b[32m-----\u001b[2m-------------------------\u001b[0m\u001b[0m 251.18 KiB/1.50 MiB\n",
            "\u001b[2K\u001b[3A\u001b[37m⠙\u001b[0m \u001b[2mPreparing packages...\u001b[0m (0/21)\n",
            "\u001b[2muri-template            \u001b[0m \u001b[32m------------------------------\u001b[2m\u001b[0m\u001b[0m 10.88 KiB/10.88 KiB\n",
            "\u001b[2mjedi                    \u001b[0m \u001b[32m-----\u001b[2m-------------------------\u001b[0m\u001b[0m 251.18 KiB/1.50 MiB\n",
            "\u001b[2K\u001b[3A\u001b[37m⠙\u001b[0m \u001b[2mPreparing packages...\u001b[0m (0/21)\n",
            "\u001b[2mjedi                    \u001b[0m \u001b[32m-----\u001b[2m-------------------------\u001b[0m\u001b[0m 251.18 KiB/1.50 MiB\n",
            "\u001b[2K\u001b[2A\u001b[37m⠙\u001b[0m \u001b[2mPreparing packages...\u001b[0m (0/21)\n",
            "\u001b[2mjedi                    \u001b[0m \u001b[32m------\u001b[2m------------------------\u001b[0m\u001b[0m 303.18 KiB/1.50 MiB\n",
            "\u001b[2K\u001b[2A\u001b[37m⠙\u001b[0m \u001b[2mPreparing packages...\u001b[0m (0/21)\n",
            "\u001b[2mjedi                    \u001b[0m \u001b[32m-------\u001b[2m-----------------------\u001b[0m\u001b[0m 319.18 KiB/1.50 MiB\n",
            "\u001b[2K\u001b[2A\u001b[37m⠹\u001b[0m \u001b[2mPreparing packages...\u001b[0m (19/21)\n",
            "\u001b[2mjedi                    \u001b[0m \u001b[32m--------\u001b[2m----------------------\u001b[0m\u001b[0m 367.18 KiB/1.50 MiB\n",
            "\u001b[2K\u001b[2A\u001b[37m⠹\u001b[0m \u001b[2mPreparing packages...\u001b[0m (19/21)\n",
            "\u001b[2mjedi                    \u001b[0m \u001b[32m---------\u001b[2m---------------------\u001b[0m\u001b[0m 415.18 KiB/1.50 MiB\n",
            "\u001b[2K\u001b[2A\u001b[37m⠹\u001b[0m \u001b[2mPreparing packages...\u001b[0m (19/21)\n",
            "\u001b[2mjedi                    \u001b[0m \u001b[32m----------\u001b[2m--------------------\u001b[0m\u001b[0m 495.18 KiB/1.50 MiB\n",
            "\u001b[2K\u001b[2A\u001b[37m⠸\u001b[0m \u001b[2mPreparing packages...\u001b[0m (19/21)\n",
            "\u001b[2mjedi                    \u001b[0m \u001b[32m-----------\u001b[2m-------------------\u001b[0m\u001b[0m 559.18 KiB/1.50 MiB\n",
            "\u001b[2K\u001b[2A\u001b[37m⠸\u001b[0m \u001b[2mPreparing packages...\u001b[0m (19/21)\n",
            "\u001b[2mjedi                    \u001b[0m \u001b[32m-------------\u001b[2m-----------------\u001b[0m\u001b[0m 655.18 KiB/1.50 MiB\n",
            "\u001b[2K\u001b[2A\u001b[37m⠸\u001b[0m \u001b[2mPreparing packages...\u001b[0m (19/21)\n",
            "\u001b[2mjedi                    \u001b[0m \u001b[32m---------------\u001b[2m---------------\u001b[0m\u001b[0m 735.07 KiB/1.50 MiB\n",
            "\u001b[2K\u001b[2A\u001b[37m⠸\u001b[0m \u001b[2mPreparing packages...\u001b[0m (19/21)\n",
            "\u001b[2mjedi                    \u001b[0m \u001b[32m----------------\u001b[2m--------------\u001b[0m\u001b[0m 783.18 KiB/1.50 MiB\n",
            "\u001b[2K\u001b[2A\u001b[37m⠸\u001b[0m \u001b[2mPreparing packages...\u001b[0m (19/21)\n",
            "\u001b[2mjedi                    \u001b[0m \u001b[32m-----------------\u001b[2m-------------\u001b[0m\u001b[0m 831.18 KiB/1.50 MiB\n",
            "\u001b[2K\u001b[2A\u001b[37m⠼\u001b[0m \u001b[2mPreparing packages...\u001b[0m (19/21)\n",
            "\u001b[2mjedi                    \u001b[0m \u001b[32m-----------------\u001b[2m-------------\u001b[0m\u001b[0m 863.18 KiB/1.50 MiB\n",
            "\u001b[2K\u001b[2A\u001b[37m⠼\u001b[0m \u001b[2mPreparing packages...\u001b[0m (19/21)\n",
            "\u001b[2K\u001b[1A\u001b[37m⠼\u001b[0m \u001b[2mPreparing packages...\u001b[0m (19/21)\n",
            "\u001b[2K\u001b[1A\u001b[37m⠼\u001b[0m \u001b[2mPreparing packages...\u001b[0m (19/21)\n",
            "\u001b[2K\u001b[1A\u001b[37m⠼\u001b[0m \u001b[2mPreparing packages...\u001b[0m (19/21)\n",
            "\u001b[2K\u001b[2mPrepared \u001b[1m21 packages\u001b[0m \u001b[2min 803ms\u001b[0m\u001b[0m\n",
            "\u001b[2mUninstalled \u001b[1m2 packages\u001b[0m \u001b[2min 35ms\u001b[0m\u001b[0m\n",
            "\u001b[2K\u001b[2mInstalled \u001b[1m21 packages\u001b[0m \u001b[2min 402ms\u001b[0m\u001b[0m\n",
            " \u001b[32m+\u001b[39m \u001b[1marrow\u001b[0m\u001b[2m==1.3.0\u001b[0m\n",
            " \u001b[32m+\u001b[39m \u001b[1masync-lru\u001b[0m\u001b[2m==2.0.5\u001b[0m\n",
            " \u001b[32m+\u001b[39m \u001b[1mfqdn\u001b[0m\u001b[2m==1.5.1\u001b[0m\n",
            " \u001b[32m+\u001b[39m \u001b[1misoduration\u001b[0m\u001b[2m==20.11.0\u001b[0m\n",
            " \u001b[32m+\u001b[39m \u001b[1mjedi\u001b[0m\u001b[2m==0.19.2\u001b[0m\n",
            " \u001b[32m+\u001b[39m \u001b[1mjson5\u001b[0m\u001b[2m==0.12.1\u001b[0m\n",
            " \u001b[31m-\u001b[39m \u001b[1mjupyter-client\u001b[0m\u001b[2m==6.1.12\u001b[0m\n",
            " \u001b[32m+\u001b[39m \u001b[1mjupyter-client\u001b[0m\u001b[2m==8.6.3\u001b[0m\n",
            " \u001b[32m+\u001b[39m \u001b[1mjupyter-events\u001b[0m\u001b[2m==0.12.0\u001b[0m\n",
            " \u001b[32m+\u001b[39m \u001b[1mjupyter-lsp\u001b[0m\u001b[2m==2.2.6\u001b[0m\n",
            " \u001b[31m-\u001b[39m \u001b[1mjupyter-server\u001b[0m\u001b[2m==1.16.0\u001b[0m\n",
            " \u001b[32m+\u001b[39m \u001b[1mjupyter-server\u001b[0m\u001b[2m==2.16.0\u001b[0m\n",
            " \u001b[32m+\u001b[39m \u001b[1mjupyter-server-terminals\u001b[0m\u001b[2m==0.5.3\u001b[0m\n",
            " \u001b[32m+\u001b[39m \u001b[1mjupyterlab\u001b[0m\u001b[2m==4.4.6\u001b[0m\n",
            " \u001b[32m+\u001b[39m \u001b[1mjupyterlab-server\u001b[0m\u001b[2m==2.27.3\u001b[0m\n",
            " \u001b[32m+\u001b[39m \u001b[1mlark\u001b[0m\u001b[2m==1.2.2\u001b[0m\n",
            " \u001b[32m+\u001b[39m \u001b[1moverrides\u001b[0m\u001b[2m==7.7.0\u001b[0m\n",
            " \u001b[32m+\u001b[39m \u001b[1mpython-json-logger\u001b[0m\u001b[2m==3.3.0\u001b[0m\n",
            " \u001b[32m+\u001b[39m \u001b[1mrfc3339-validator\u001b[0m\u001b[2m==0.1.4\u001b[0m\n",
            " \u001b[32m+\u001b[39m \u001b[1mrfc3986-validator\u001b[0m\u001b[2m==0.1.1\u001b[0m\n",
            " \u001b[32m+\u001b[39m \u001b[1mrfc3987-syntax\u001b[0m\u001b[2m==1.1.0\u001b[0m\n",
            " \u001b[32m+\u001b[39m \u001b[1mtypes-python-dateutil\u001b[0m\u001b[2m==2.9.0.20250809\u001b[0m\n",
            " \u001b[32m+\u001b[39m \u001b[1muri-template\u001b[0m\u001b[2m==1.3.0\u001b[0m\n"
          ]
        }
      ]
    },
    {
      "cell_type": "code",
      "source": [
        "# import required packages\n",
        "import os\n",
        "import urllib.request"
      ],
      "metadata": {
        "id": "GbZSgJDIRlBo"
      },
      "execution_count": 4,
      "outputs": []
    },
    {
      "cell_type": "code",
      "source": [
        "# load the sample vocabulary\n",
        "if not os.path.exists(\"the-verdict.txt\"):\n",
        "    url = (\"https://raw.githubusercontent.com/Josna-cardoza/simple-tokenizer/refs/heads/main/sample-vocabulary.txt\")\n",
        "    file_path = \"the-verdict.txt\"\n",
        "    urllib.request.urlretrieve(url, file_path)"
      ],
      "metadata": {
        "id": "75ImiRjIUy6T"
      },
      "execution_count": 5,
      "outputs": []
    },
    {
      "cell_type": "code",
      "metadata": {
        "id": "a45a465b"
      },
      "source": [
        "with open(\"the-verdict.txt\", \"r\", encoding=\"utf-8\") as f:\n",
        "    raw_text = f.read()"
      ],
      "execution_count": 6,
      "outputs": []
    },
    {
      "cell_type": "markdown",
      "metadata": {
        "id": "f290a7b7"
      },
      "source": [
        "Now you can tokenize the text data."
      ]
    },
    {
      "cell_type": "code",
      "metadata": {
        "colab": {
          "base_uri": "https://localhost:8080/"
        },
        "id": "aa78669e",
        "outputId": "1c1f2a1b-ff6a-4d1c-8aeb-6134030d0bc3"
      },
      "source": [
        "print(\"Total number of characters:\", len(raw_text))\n",
        "print(raw_text[:99])"
      ],
      "execution_count": 7,
      "outputs": [
        {
          "output_type": "stream",
          "name": "stdout",
          "text": [
            "Total number of characters: 20480\n",
            "I HAD always thought Jack Gisburn rather a cheap genius--though a good fellow enough--so it was no \n"
          ]
        }
      ]
    },
    {
      "cell_type": "code",
      "source": [
        "import re\n",
        "\n",
        "text = \"hello, World. This, is a test.\"\n",
        "\n",
        "# Split up the text into smaller chunks\n",
        "result = re.split(r'(\\s)', text)\n",
        "\n",
        "print(result)"
      ],
      "metadata": {
        "colab": {
          "base_uri": "https://localhost:8080/"
        },
        "id": "musdoC9fXQHT",
        "outputId": "8eb1df08-d4f1-4409-f3fb-ba9216e53bfe"
      },
      "execution_count": 8,
      "outputs": [
        {
          "output_type": "stream",
          "name": "stdout",
          "text": [
            "['hello,', ' ', 'World.', ' ', 'This,', ' ', 'is', ' ', 'a', ' ', 'test.']\n"
          ]
        }
      ]
    },
    {
      "cell_type": "code",
      "source": [
        "# Updating the regular expression to separate the special characters like ',' to be separate chunks\n",
        "result = re.split(r'([,.]|\\s)', text)"
      ],
      "metadata": {
        "id": "qEPrvc7IXiym"
      },
      "execution_count": 9,
      "outputs": []
    },
    {
      "cell_type": "code",
      "source": [
        "print(result )"
      ],
      "metadata": {
        "colab": {
          "base_uri": "https://localhost:8080/"
        },
        "id": "w24pnyPBX3q9",
        "outputId": "cf77cd5f-bdc2-4e08-e7f3-9513caff6f71"
      },
      "execution_count": 10,
      "outputs": [
        {
          "output_type": "stream",
          "name": "stdout",
          "text": [
            "['hello', ',', '', ' ', 'World', '.', '', ' ', 'This', ',', '', ' ', 'is', ' ', 'a', ' ', 'test', '.', '']\n"
          ]
        }
      ]
    },
    {
      "cell_type": "code",
      "source": [
        "# Remove the white space characters\n",
        "result = [item for item in result if item.strip()]\n",
        "print(result)"
      ],
      "metadata": {
        "colab": {
          "base_uri": "https://localhost:8080/"
        },
        "id": "dIvrr2fgX5cV",
        "outputId": "1dd5d711-af4e-437e-a9c9-cb0d5fd0dc5d"
      },
      "execution_count": 11,
      "outputs": [
        {
          "output_type": "stream",
          "name": "stdout",
          "text": [
            "['hello', ',', 'World', '.', 'This', ',', 'is', 'a', 'test', '.']\n"
          ]
        }
      ]
    },
    {
      "cell_type": "code",
      "source": [
        "# Let's try some more challenging text\n",
        "text = \"hello, World. Is this-- a test?\"\n",
        "\n",
        "result = re.split(r'([,.:;?_!\"()\\']|--|\\s)', text)\n",
        "result = [item.strip() for item in result if item.strip()]\n",
        "print(result)"
      ],
      "metadata": {
        "colab": {
          "base_uri": "https://localhost:8080/"
        },
        "id": "Fe4PH4ZiYL8B",
        "outputId": "72e57a91-c6b4-488b-d4d6-b9419d01fca2"
      },
      "execution_count": 12,
      "outputs": [
        {
          "output_type": "stream",
          "name": "stdout",
          "text": [
            "['hello', ',', 'World', '.', 'Is', 'this', '--', 'a', 'test', '?']\n"
          ]
        }
      ]
    },
    {
      "cell_type": "code",
      "source": [
        "# Let's now use our vocabulary text which is stored in the variable raw_text above\n",
        "result = re.split(r'([,.:;?_!\"()\\']|--|\\s)', raw_text)\n",
        "result = [item.strip() for item in result if item.strip()]\n",
        "preprocessed = result\n",
        "preprocessed[:10]"
      ],
      "metadata": {
        "colab": {
          "base_uri": "https://localhost:8080/"
        },
        "id": "_lkCxx8yY6-P",
        "outputId": "1de2d5d9-5d16-458a-c14e-df98c31ecd86"
      },
      "execution_count": 13,
      "outputs": [
        {
          "output_type": "execute_result",
          "data": {
            "text/plain": [
              "['I',\n",
              " 'HAD',\n",
              " 'always',\n",
              " 'thought',\n",
              " 'Jack',\n",
              " 'Gisburn',\n",
              " 'rather',\n",
              " 'a',\n",
              " 'cheap',\n",
              " 'genius']"
            ]
          },
          "metadata": {},
          "execution_count": 13
        }
      ]
    },
    {
      "cell_type": "code",
      "source": [
        "# Length of the chunks in vocabulary\n",
        "len(preprocessed )"
      ],
      "metadata": {
        "colab": {
          "base_uri": "https://localhost:8080/"
        },
        "id": "50OOwUY5ZLNy",
        "outputId": "65faaf20-1af5-4bf1-fb77-77993de836b9"
      },
      "execution_count": 15,
      "outputs": [
        {
          "output_type": "execute_result",
          "data": {
            "text/plain": [
              "4690"
            ]
          },
          "metadata": {},
          "execution_count": 15
        }
      ]
    },
    {
      "cell_type": "code",
      "source": [
        "# size of vocabulary\n",
        "all_words = sorted(set(preprocessed))\n",
        "vocab_size = len(all_words)\n",
        "print(vocab_size)"
      ],
      "metadata": {
        "colab": {
          "base_uri": "https://localhost:8080/"
        },
        "id": "1oZ7DVSRZUNh",
        "outputId": "797fe976-455e-43df-e162-732c83b290ba"
      },
      "execution_count": 16,
      "outputs": [
        {
          "output_type": "stream",
          "name": "stdout",
          "text": [
            "1130\n"
          ]
        }
      ]
    },
    {
      "cell_type": "code",
      "source": [
        "# Let's generate the token Ids for these chunks\n",
        "vocab = {token:integer for integer, token in enumerate(all_words)}\n",
        "vocab"
      ],
      "metadata": {
        "colab": {
          "base_uri": "https://localhost:8080/"
        },
        "id": "_QbdfZYVZ5i4",
        "outputId": "bd951a4a-d1a6-418b-d1d8-9a7cceb16d27"
      },
      "execution_count": 17,
      "outputs": [
        {
          "output_type": "execute_result",
          "data": {
            "text/plain": [
              "{'!': 0,\n",
              " '\"': 1,\n",
              " \"'\": 2,\n",
              " '(': 3,\n",
              " ')': 4,\n",
              " ',': 5,\n",
              " '--': 6,\n",
              " '.': 7,\n",
              " ':': 8,\n",
              " ';': 9,\n",
              " '?': 10,\n",
              " 'A': 11,\n",
              " 'Ah': 12,\n",
              " 'Among': 13,\n",
              " 'And': 14,\n",
              " 'Are': 15,\n",
              " 'Arrt': 16,\n",
              " 'As': 17,\n",
              " 'At': 18,\n",
              " 'Be': 19,\n",
              " 'Begin': 20,\n",
              " 'Burlington': 21,\n",
              " 'But': 22,\n",
              " 'By': 23,\n",
              " 'Carlo': 24,\n",
              " 'Chicago': 25,\n",
              " 'Claude': 26,\n",
              " 'Come': 27,\n",
              " 'Croft': 28,\n",
              " 'Destroyed': 29,\n",
              " 'Devonshire': 30,\n",
              " 'Don': 31,\n",
              " 'Dubarry': 32,\n",
              " 'Emperors': 33,\n",
              " 'Florence': 34,\n",
              " 'For': 35,\n",
              " 'Gallery': 36,\n",
              " 'Gideon': 37,\n",
              " 'Gisburn': 38,\n",
              " 'Gisburns': 39,\n",
              " 'Grafton': 40,\n",
              " 'Greek': 41,\n",
              " 'Grindle': 42,\n",
              " 'Grindles': 43,\n",
              " 'HAD': 44,\n",
              " 'Had': 45,\n",
              " 'Hang': 46,\n",
              " 'Has': 47,\n",
              " 'He': 48,\n",
              " 'Her': 49,\n",
              " 'Hermia': 50,\n",
              " 'His': 51,\n",
              " 'How': 52,\n",
              " 'I': 53,\n",
              " 'If': 54,\n",
              " 'In': 55,\n",
              " 'It': 56,\n",
              " 'Jack': 57,\n",
              " 'Jove': 58,\n",
              " 'Just': 59,\n",
              " 'Lord': 60,\n",
              " 'Made': 61,\n",
              " 'Miss': 62,\n",
              " 'Money': 63,\n",
              " 'Monte': 64,\n",
              " 'Moon-dancers': 65,\n",
              " 'Mr': 66,\n",
              " 'Mrs': 67,\n",
              " 'My': 68,\n",
              " 'Never': 69,\n",
              " 'No': 70,\n",
              " 'Now': 71,\n",
              " 'Nutley': 72,\n",
              " 'Of': 73,\n",
              " 'Oh': 74,\n",
              " 'On': 75,\n",
              " 'Once': 76,\n",
              " 'Only': 77,\n",
              " 'Or': 78,\n",
              " 'Perhaps': 79,\n",
              " 'Poor': 80,\n",
              " 'Professional': 81,\n",
              " 'Renaissance': 82,\n",
              " 'Rickham': 83,\n",
              " 'Riviera': 84,\n",
              " 'Rome': 85,\n",
              " 'Russian': 86,\n",
              " 'Sevres': 87,\n",
              " 'She': 88,\n",
              " 'Stroud': 89,\n",
              " 'Strouds': 90,\n",
              " 'Suddenly': 91,\n",
              " 'That': 92,\n",
              " 'The': 93,\n",
              " 'Then': 94,\n",
              " 'There': 95,\n",
              " 'They': 96,\n",
              " 'This': 97,\n",
              " 'Those': 98,\n",
              " 'Though': 99,\n",
              " 'Thwing': 100,\n",
              " 'Thwings': 101,\n",
              " 'To': 102,\n",
              " 'Usually': 103,\n",
              " 'Venetian': 104,\n",
              " 'Victor': 105,\n",
              " 'Was': 106,\n",
              " 'We': 107,\n",
              " 'Well': 108,\n",
              " 'What': 109,\n",
              " 'When': 110,\n",
              " 'Why': 111,\n",
              " 'Yes': 112,\n",
              " 'You': 113,\n",
              " '_': 114,\n",
              " 'a': 115,\n",
              " 'abdication': 116,\n",
              " 'able': 117,\n",
              " 'about': 118,\n",
              " 'above': 119,\n",
              " 'abruptly': 120,\n",
              " 'absolute': 121,\n",
              " 'absorbed': 122,\n",
              " 'absurdity': 123,\n",
              " 'academic': 124,\n",
              " 'accuse': 125,\n",
              " 'accustomed': 126,\n",
              " 'across': 127,\n",
              " 'activity': 128,\n",
              " 'add': 129,\n",
              " 'added': 130,\n",
              " 'admirers': 131,\n",
              " 'adopted': 132,\n",
              " 'adulation': 133,\n",
              " 'advance': 134,\n",
              " 'aesthetic': 135,\n",
              " 'affect': 136,\n",
              " 'afraid': 137,\n",
              " 'after': 138,\n",
              " 'afterward': 139,\n",
              " 'again': 140,\n",
              " 'ago': 141,\n",
              " 'ah': 142,\n",
              " 'air': 143,\n",
              " 'alive': 144,\n",
              " 'all': 145,\n",
              " 'almost': 146,\n",
              " 'alone': 147,\n",
              " 'along': 148,\n",
              " 'always': 149,\n",
              " 'am': 150,\n",
              " 'amazement': 151,\n",
              " 'amid': 152,\n",
              " 'among': 153,\n",
              " 'amplest': 154,\n",
              " 'amusing': 155,\n",
              " 'an': 156,\n",
              " 'and': 157,\n",
              " 'another': 158,\n",
              " 'answer': 159,\n",
              " 'answered': 160,\n",
              " 'any': 161,\n",
              " 'anything': 162,\n",
              " 'anywhere': 163,\n",
              " 'apparent': 164,\n",
              " 'apparently': 165,\n",
              " 'appearance': 166,\n",
              " 'appeared': 167,\n",
              " 'appointed': 168,\n",
              " 'are': 169,\n",
              " 'arm': 170,\n",
              " 'arm-chair': 171,\n",
              " 'arm-chairs': 172,\n",
              " 'arms': 173,\n",
              " 'art': 174,\n",
              " 'articles': 175,\n",
              " 'artist': 176,\n",
              " 'as': 177,\n",
              " 'aside': 178,\n",
              " 'asked': 179,\n",
              " 'at': 180,\n",
              " 'atmosphere': 181,\n",
              " 'atom': 182,\n",
              " 'attack': 183,\n",
              " 'attention': 184,\n",
              " 'attitude': 185,\n",
              " 'audacities': 186,\n",
              " 'away': 187,\n",
              " 'awful': 188,\n",
              " 'axioms': 189,\n",
              " 'azaleas': 190,\n",
              " 'back': 191,\n",
              " 'background': 192,\n",
              " 'balance': 193,\n",
              " 'balancing': 194,\n",
              " 'balustraded': 195,\n",
              " 'basking': 196,\n",
              " 'bath-rooms': 197,\n",
              " 'be': 198,\n",
              " 'beaming': 199,\n",
              " 'bean-stalk': 200,\n",
              " 'bear': 201,\n",
              " 'beard': 202,\n",
              " 'beauty': 203,\n",
              " 'became': 204,\n",
              " 'because': 205,\n",
              " 'becoming': 206,\n",
              " 'bed': 207,\n",
              " 'been': 208,\n",
              " 'before': 209,\n",
              " 'began': 210,\n",
              " 'begun': 211,\n",
              " 'behind': 212,\n",
              " 'being': 213,\n",
              " 'believed': 214,\n",
              " 'beneath': 215,\n",
              " 'bespoke': 216,\n",
              " 'better': 217,\n",
              " 'between': 218,\n",
              " 'big': 219,\n",
              " 'bits': 220,\n",
              " 'bitterness': 221,\n",
              " 'blocked': 222,\n",
              " 'born': 223,\n",
              " 'borne': 224,\n",
              " 'boudoir': 225,\n",
              " 'bravura': 226,\n",
              " 'break': 227,\n",
              " 'breaking': 228,\n",
              " 'breathing': 229,\n",
              " 'bric-a-brac': 230,\n",
              " 'briefly': 231,\n",
              " 'brings': 232,\n",
              " 'bronzes': 233,\n",
              " 'brought': 234,\n",
              " 'brown': 235,\n",
              " 'brush': 236,\n",
              " 'bull': 237,\n",
              " 'business': 238,\n",
              " 'but': 239,\n",
              " 'buying': 240,\n",
              " 'by': 241,\n",
              " 'called': 242,\n",
              " 'came': 243,\n",
              " 'can': 244,\n",
              " 'canvas': 245,\n",
              " 'canvases': 246,\n",
              " 'cards': 247,\n",
              " 'care': 248,\n",
              " 'career': 249,\n",
              " 'caught': 250,\n",
              " 'central': 251,\n",
              " 'chair': 252,\n",
              " 'chap': 253,\n",
              " 'characteristic': 254,\n",
              " 'charming': 255,\n",
              " 'cheap': 256,\n",
              " 'check': 257,\n",
              " 'cheeks': 258,\n",
              " 'chest': 259,\n",
              " 'chimney-piece': 260,\n",
              " 'chucked': 261,\n",
              " 'cigar': 262,\n",
              " 'cigarette': 263,\n",
              " 'cigars': 264,\n",
              " 'circulation': 265,\n",
              " 'circumstance': 266,\n",
              " 'circus-clown': 267,\n",
              " 'claimed': 268,\n",
              " 'clasping': 269,\n",
              " 'clear': 270,\n",
              " 'cleverer': 271,\n",
              " 'close': 272,\n",
              " 'clue': 273,\n",
              " 'coat': 274,\n",
              " 'collapsed': 275,\n",
              " 'colour': 276,\n",
              " 'come': 277,\n",
              " 'comfortable': 278,\n",
              " 'coming': 279,\n",
              " 'companion': 280,\n",
              " 'compared': 281,\n",
              " 'complex': 282,\n",
              " 'confident': 283,\n",
              " 'congesting': 284,\n",
              " 'conjugal': 285,\n",
              " 'constraint': 286,\n",
              " 'consummate': 287,\n",
              " 'contended': 288,\n",
              " 'continued': 289,\n",
              " 'corner': 290,\n",
              " 'corrected': 291,\n",
              " 'could': 292,\n",
              " 'couldn': 293,\n",
              " 'count': 294,\n",
              " 'countenance': 295,\n",
              " 'couple': 296,\n",
              " 'course': 297,\n",
              " 'covered': 298,\n",
              " 'craft': 299,\n",
              " 'cried': 300,\n",
              " 'crossed': 301,\n",
              " 'crowned': 302,\n",
              " 'crumbled': 303,\n",
              " 'cry': 304,\n",
              " 'cured': 305,\n",
              " 'curiosity': 306,\n",
              " 'curious': 307,\n",
              " 'current': 308,\n",
              " 'curtains': 309,\n",
              " 'd': 310,\n",
              " 'dabble': 311,\n",
              " 'damask': 312,\n",
              " 'dark': 313,\n",
              " 'dashed': 314,\n",
              " 'day': 315,\n",
              " 'days': 316,\n",
              " 'dead': 317,\n",
              " 'deadening': 318,\n",
              " 'dear': 319,\n",
              " 'deep': 320,\n",
              " 'deerhound': 321,\n",
              " 'degree': 322,\n",
              " 'delicate': 323,\n",
              " 'demand': 324,\n",
              " 'denied': 325,\n",
              " 'deploring': 326,\n",
              " 'deprecating': 327,\n",
              " 'deprecatingly': 328,\n",
              " 'desire': 329,\n",
              " 'destroyed': 330,\n",
              " 'destruction': 331,\n",
              " 'desultory': 332,\n",
              " 'detail': 333,\n",
              " 'diagnosis': 334,\n",
              " 'did': 335,\n",
              " 'didn': 336,\n",
              " 'died': 337,\n",
              " 'dim': 338,\n",
              " 'dimmest': 339,\n",
              " 'dingy': 340,\n",
              " 'dining-room': 341,\n",
              " 'disarming': 342,\n",
              " 'discovery': 343,\n",
              " 'discrimination': 344,\n",
              " 'discussion': 345,\n",
              " 'disdain': 346,\n",
              " 'disdained': 347,\n",
              " 'disease': 348,\n",
              " 'disguised': 349,\n",
              " 'display': 350,\n",
              " 'dissatisfied': 351,\n",
              " 'distinguished': 352,\n",
              " 'distract': 353,\n",
              " 'divert': 354,\n",
              " 'do': 355,\n",
              " 'doesn': 356,\n",
              " 'doing': 357,\n",
              " 'domestic': 358,\n",
              " 'don': 359,\n",
              " 'done': 360,\n",
              " 'donkey': 361,\n",
              " 'down': 362,\n",
              " 'dozen': 363,\n",
              " 'dragged': 364,\n",
              " 'drawing-room': 365,\n",
              " 'drawing-rooms': 366,\n",
              " 'drawn': 367,\n",
              " 'dress-closets': 368,\n",
              " 'drew': 369,\n",
              " 'dropped': 370,\n",
              " 'each': 371,\n",
              " 'earth': 372,\n",
              " 'ease': 373,\n",
              " 'easel': 374,\n",
              " 'easy': 375,\n",
              " 'echoed': 376,\n",
              " 'economy': 377,\n",
              " 'effect': 378,\n",
              " 'effects': 379,\n",
              " 'efforts': 380,\n",
              " 'egregious': 381,\n",
              " 'eighteenth-century': 382,\n",
              " 'elbow': 383,\n",
              " 'elegant': 384,\n",
              " 'else': 385,\n",
              " 'embarrassed': 386,\n",
              " 'enabled': 387,\n",
              " 'end': 388,\n",
              " 'endless': 389,\n",
              " 'enjoy': 390,\n",
              " 'enlightenment': 391,\n",
              " 'enough': 392,\n",
              " 'ensuing': 393,\n",
              " 'equally': 394,\n",
              " 'equanimity': 395,\n",
              " 'escape': 396,\n",
              " 'established': 397,\n",
              " 'etching': 398,\n",
              " 'even': 399,\n",
              " 'event': 400,\n",
              " 'ever': 401,\n",
              " 'everlasting': 402,\n",
              " 'every': 403,\n",
              " 'exasperated': 404,\n",
              " 'except': 405,\n",
              " 'excuse': 406,\n",
              " 'excusing': 407,\n",
              " 'existed': 408,\n",
              " 'expected': 409,\n",
              " 'exquisite': 410,\n",
              " 'exquisitely': 411,\n",
              " 'extenuation': 412,\n",
              " 'exterminating': 413,\n",
              " 'extracting': 414,\n",
              " 'eye': 415,\n",
              " 'eyebrows': 416,\n",
              " 'eyes': 417,\n",
              " 'face': 418,\n",
              " 'faces': 419,\n",
              " 'fact': 420,\n",
              " 'faded': 421,\n",
              " 'failed': 422,\n",
              " 'failure': 423,\n",
              " 'fair': 424,\n",
              " 'faith': 425,\n",
              " 'false': 426,\n",
              " 'familiar': 427,\n",
              " 'famille-verte': 428,\n",
              " 'fancy': 429,\n",
              " 'fashionable': 430,\n",
              " 'fate': 431,\n",
              " 'feather': 432,\n",
              " 'feet': 433,\n",
              " 'fell': 434,\n",
              " 'fellow': 435,\n",
              " 'felt': 436,\n",
              " 'few': 437,\n",
              " 'fewer': 438,\n",
              " 'finality': 439,\n",
              " 'find': 440,\n",
              " 'fingers': 441,\n",
              " 'first': 442,\n",
              " 'fit': 443,\n",
              " 'fitting': 444,\n",
              " 'five': 445,\n",
              " 'flash': 446,\n",
              " 'flashed': 447,\n",
              " 'florid': 448,\n",
              " 'flowers': 449,\n",
              " 'fluently': 450,\n",
              " 'flung': 451,\n",
              " 'follow': 452,\n",
              " 'followed': 453,\n",
              " 'fond': 454,\n",
              " 'footstep': 455,\n",
              " 'for': 456,\n",
              " 'forced': 457,\n",
              " 'forcing': 458,\n",
              " 'forehead': 459,\n",
              " 'foreign': 460,\n",
              " 'foreseen': 461,\n",
              " 'forgive': 462,\n",
              " 'forgotten': 463,\n",
              " 'form': 464,\n",
              " 'formed': 465,\n",
              " 'forming': 466,\n",
              " 'forward': 467,\n",
              " 'fostered': 468,\n",
              " 'found': 469,\n",
              " 'foundations': 470,\n",
              " 'fragment': 471,\n",
              " 'fragments': 472,\n",
              " 'frame': 473,\n",
              " 'frames': 474,\n",
              " 'frequently': 475,\n",
              " 'friend': 476,\n",
              " 'from': 477,\n",
              " 'full': 478,\n",
              " 'fullest': 479,\n",
              " 'furiously': 480,\n",
              " 'furrowed': 481,\n",
              " 'garlanded': 482,\n",
              " 'garlands': 483,\n",
              " 'gave': 484,\n",
              " 'genial': 485,\n",
              " 'genius': 486,\n",
              " 'gesture': 487,\n",
              " 'get': 488,\n",
              " 'getting': 489,\n",
              " 'give': 490,\n",
              " 'given': 491,\n",
              " 'glad': 492,\n",
              " 'glanced': 493,\n",
              " 'glimpse': 494,\n",
              " 'gloried': 495,\n",
              " 'glory': 496,\n",
              " 'go': 497,\n",
              " 'going': 498,\n",
              " 'gone': 499,\n",
              " 'good': 500,\n",
              " 'good-breeding': 501,\n",
              " 'good-humoured': 502,\n",
              " 'got': 503,\n",
              " 'grace': 504,\n",
              " 'gradually': 505,\n",
              " 'gray': 506,\n",
              " 'grayish': 507,\n",
              " 'great': 508,\n",
              " 'greatest': 509,\n",
              " 'greatness': 510,\n",
              " 'grew': 511,\n",
              " 'groping': 512,\n",
              " 'growing': 513,\n",
              " 'had': 514,\n",
              " 'hadn': 515,\n",
              " 'hair': 516,\n",
              " 'half': 517,\n",
              " 'half-light': 518,\n",
              " 'half-mechanically': 519,\n",
              " 'hall': 520,\n",
              " 'hand': 521,\n",
              " 'hands': 522,\n",
              " 'handsome': 523,\n",
              " 'hanging': 524,\n",
              " 'happen': 525,\n",
              " 'happened': 526,\n",
              " 'hard': 527,\n",
              " 'hardly': 528,\n",
              " 'has': 529,\n",
              " 'have': 530,\n",
              " 'haven': 531,\n",
              " 'having': 532,\n",
              " 'he': 533,\n",
              " 'head': 534,\n",
              " 'hear': 535,\n",
              " 'heard': 536,\n",
              " 'heart': 537,\n",
              " 'height': 538,\n",
              " 'her': 539,\n",
              " 'here': 540,\n",
              " 'hermit': 541,\n",
              " 'herself': 542,\n",
              " 'hesitations': 543,\n",
              " 'hide': 544,\n",
              " 'high': 545,\n",
              " 'him': 546,\n",
              " 'himself': 547,\n",
              " 'hint': 548,\n",
              " 'his': 549,\n",
              " 'history': 550,\n",
              " 'holding': 551,\n",
              " 'home': 552,\n",
              " 'honour': 553,\n",
              " 'hooded': 554,\n",
              " 'hostess': 555,\n",
              " 'hot-house': 556,\n",
              " 'hour': 557,\n",
              " 'hours': 558,\n",
              " 'house': 559,\n",
              " 'how': 560,\n",
              " 'hung': 561,\n",
              " 'husband': 562,\n",
              " 'idea': 563,\n",
              " 'idle': 564,\n",
              " 'idling': 565,\n",
              " 'if': 566,\n",
              " 'immediately': 567,\n",
              " 'in': 568,\n",
              " 'incense': 569,\n",
              " 'indifferent': 570,\n",
              " 'inevitable': 571,\n",
              " 'inevitably': 572,\n",
              " 'inflexible': 573,\n",
              " 'insensible': 574,\n",
              " 'insignificant': 575,\n",
              " 'instinctively': 576,\n",
              " 'instructive': 577,\n",
              " 'interesting': 578,\n",
              " 'into': 579,\n",
              " 'ironic': 580,\n",
              " 'irony': 581,\n",
              " 'irrelevance': 582,\n",
              " 'irrevocable': 583,\n",
              " 'is': 584,\n",
              " 'it': 585,\n",
              " 'its': 586,\n",
              " 'itself': 587,\n",
              " 'jardiniere': 588,\n",
              " 'jealousy': 589,\n",
              " 'just': 590,\n",
              " 'keep': 591,\n",
              " 'kept': 592,\n",
              " 'kind': 593,\n",
              " 'knees': 594,\n",
              " 'knew': 595,\n",
              " 'know': 596,\n",
              " 'known': 597,\n",
              " 'laid': 598,\n",
              " 'lair': 599,\n",
              " 'landing': 600,\n",
              " 'language': 601,\n",
              " 'last': 602,\n",
              " 'late': 603,\n",
              " 'later': 604,\n",
              " 'latter': 605,\n",
              " 'laugh': 606,\n",
              " 'laughed': 607,\n",
              " 'lay': 608,\n",
              " 'leading': 609,\n",
              " 'lean': 610,\n",
              " 'learned': 611,\n",
              " 'least': 612,\n",
              " 'leathery': 613,\n",
              " 'leave': 614,\n",
              " 'led': 615,\n",
              " 'left': 616,\n",
              " 'leisure': 617,\n",
              " 'lends': 618,\n",
              " 'lent': 619,\n",
              " 'let': 620,\n",
              " 'lies': 621,\n",
              " 'life': 622,\n",
              " 'life-likeness': 623,\n",
              " 'lift': 624,\n",
              " 'lifted': 625,\n",
              " 'light': 626,\n",
              " 'lightly': 627,\n",
              " 'like': 628,\n",
              " 'liked': 629,\n",
              " 'line': 630,\n",
              " 'lines': 631,\n",
              " 'lingered': 632,\n",
              " 'lips': 633,\n",
              " 'lit': 634,\n",
              " 'little': 635,\n",
              " 'live': 636,\n",
              " 'll': 637,\n",
              " 'loathing': 638,\n",
              " 'long': 639,\n",
              " 'longed': 640,\n",
              " 'longer': 641,\n",
              " 'look': 642,\n",
              " 'looked': 643,\n",
              " 'looking': 644,\n",
              " 'lose': 645,\n",
              " 'loss': 646,\n",
              " 'lounging': 647,\n",
              " 'lovely': 648,\n",
              " 'lucky': 649,\n",
              " 'lump': 650,\n",
              " 'luncheon-table': 651,\n",
              " 'luxury': 652,\n",
              " 'lying': 653,\n",
              " 'made': 654,\n",
              " 'make': 655,\n",
              " 'man': 656,\n",
              " 'manage': 657,\n",
              " 'managed': 658,\n",
              " 'mantel-piece': 659,\n",
              " 'marble': 660,\n",
              " 'married': 661,\n",
              " 'may': 662,\n",
              " 'me': 663,\n",
              " 'meant': 664,\n",
              " 'mediocrity': 665,\n",
              " 'medium': 666,\n",
              " 'mentioned': 667,\n",
              " 'mere': 668,\n",
              " 'merely': 669,\n",
              " 'met': 670,\n",
              " 'might': 671,\n",
              " 'mighty': 672,\n",
              " 'millionaire': 673,\n",
              " 'mine': 674,\n",
              " 'minute': 675,\n",
              " 'minutes': 676,\n",
              " 'mirrors': 677,\n",
              " 'modest': 678,\n",
              " 'modesty': 679,\n",
              " 'moment': 680,\n",
              " 'money': 681,\n",
              " 'monumental': 682,\n",
              " 'mood': 683,\n",
              " 'morbidly': 684,\n",
              " 'more': 685,\n",
              " 'most': 686,\n",
              " 'mourn': 687,\n",
              " 'mourned': 688,\n",
              " 'moustache': 689,\n",
              " 'moved': 690,\n",
              " 'much': 691,\n",
              " 'muddling': 692,\n",
              " 'multiplied': 693,\n",
              " 'murmur': 694,\n",
              " 'muscles': 695,\n",
              " 'must': 696,\n",
              " 'my': 697,\n",
              " 'myself': 698,\n",
              " 'mysterious': 699,\n",
              " 'naive': 700,\n",
              " 'near': 701,\n",
              " 'nearly': 702,\n",
              " 'negatived': 703,\n",
              " 'nervous': 704,\n",
              " 'nervousness': 705,\n",
              " 'neutral': 706,\n",
              " 'never': 707,\n",
              " 'next': 708,\n",
              " 'no': 709,\n",
              " 'none': 710,\n",
              " 'not': 711,\n",
              " 'note': 712,\n",
              " 'nothing': 713,\n",
              " 'now': 714,\n",
              " 'nymphs': 715,\n",
              " 'oak': 716,\n",
              " 'obituary': 717,\n",
              " 'object': 718,\n",
              " 'objects': 719,\n",
              " 'occurred': 720,\n",
              " 'oddly': 721,\n",
              " 'of': 722,\n",
              " 'off': 723,\n",
              " 'often': 724,\n",
              " 'oh': 725,\n",
              " 'old': 726,\n",
              " 'on': 727,\n",
              " 'once': 728,\n",
              " 'one': 729,\n",
              " 'ones': 730,\n",
              " 'only': 731,\n",
              " 'onto': 732,\n",
              " 'open': 733,\n",
              " 'or': 734,\n",
              " 'other': 735,\n",
              " 'our': 736,\n",
              " 'ourselves': 737,\n",
              " 'out': 738,\n",
              " 'outline': 739,\n",
              " 'oval': 740,\n",
              " 'over': 741,\n",
              " 'own': 742,\n",
              " 'packed': 743,\n",
              " 'paid': 744,\n",
              " 'paint': 745,\n",
              " 'painted': 746,\n",
              " 'painter': 747,\n",
              " 'painting': 748,\n",
              " 'pale': 749,\n",
              " 'paled': 750,\n",
              " 'palm-trees': 751,\n",
              " 'panel': 752,\n",
              " 'panelling': 753,\n",
              " 'pardonable': 754,\n",
              " 'pardoned': 755,\n",
              " 'part': 756,\n",
              " 'passages': 757,\n",
              " 'passing': 758,\n",
              " 'past': 759,\n",
              " 'pastels': 760,\n",
              " 'pathos': 761,\n",
              " 'patient': 762,\n",
              " 'people': 763,\n",
              " 'perceptible': 764,\n",
              " 'perfect': 765,\n",
              " 'persistence': 766,\n",
              " 'persuasively': 767,\n",
              " 'phrase': 768,\n",
              " 'picture': 769,\n",
              " 'pictures': 770,\n",
              " 'pines': 771,\n",
              " 'pink': 772,\n",
              " 'place': 773,\n",
              " 'placed': 774,\n",
              " 'plain': 775,\n",
              " 'platitudes': 776,\n",
              " 'pleased': 777,\n",
              " 'pockets': 778,\n",
              " 'point': 779,\n",
              " 'poised': 780,\n",
              " 'poor': 781,\n",
              " 'portrait': 782,\n",
              " 'posing': 783,\n",
              " 'possessed': 784,\n",
              " 'poverty': 785,\n",
              " 'predicted': 786,\n",
              " 'preliminary': 787,\n",
              " 'presenting': 788,\n",
              " 'prestidigitation': 789,\n",
              " 'pretty': 790,\n",
              " 'previous': 791,\n",
              " 'price': 792,\n",
              " 'pride': 793,\n",
              " 'princely': 794,\n",
              " 'prism': 795,\n",
              " 'problem': 796,\n",
              " 'proclaiming': 797,\n",
              " 'prodigious': 798,\n",
              " 'profusion': 799,\n",
              " 'protest': 800,\n",
              " 'prove': 801,\n",
              " 'public': 802,\n",
              " 'purblind': 803,\n",
              " 'purely': 804,\n",
              " 'pushed': 805,\n",
              " 'put': 806,\n",
              " 'qualities': 807,\n",
              " 'quality': 808,\n",
              " 'queerly': 809,\n",
              " 'question': 810,\n",
              " 'quickly': 811,\n",
              " 'quietly': 812,\n",
              " 'quite': 813,\n",
              " 'quote': 814,\n",
              " 'rain': 815,\n",
              " 'raised': 816,\n",
              " 'random': 817,\n",
              " 'rather': 818,\n",
              " 're': 819,\n",
              " 'real': 820,\n",
              " 'really': 821,\n",
              " 'reared': 822,\n",
              " 'reason': 823,\n",
              " 'reassurance': 824,\n",
              " 'recovering': 825,\n",
              " 'recreated': 826,\n",
              " 'reflected': 827,\n",
              " 'reflection': 828,\n",
              " 'regrets': 829,\n",
              " 'relatively': 830,\n",
              " 'remained': 831,\n",
              " 'remember': 832,\n",
              " 'reminded': 833,\n",
              " 'repeating': 834,\n",
              " 'represented': 835,\n",
              " 'reproduction': 836,\n",
              " 'resented': 837,\n",
              " 'resolve': 838,\n",
              " 'resources': 839,\n",
              " 'rest': 840,\n",
              " 'rich': 841,\n",
              " 'ridiculous': 842,\n",
              " 'robbed': 843,\n",
              " 'romantic': 844,\n",
              " 'room': 845,\n",
              " 'rose': 846,\n",
              " 'rs': 847,\n",
              " 'rule': 848,\n",
              " 'run': 849,\n",
              " 's': 850,\n",
              " 'said': 851,\n",
              " 'same': 852,\n",
              " 'satisfaction': 853,\n",
              " 'savour': 854,\n",
              " 'saw': 855,\n",
              " 'say': 856,\n",
              " 'saying': 857,\n",
              " 'says': 858,\n",
              " 'scorn': 859,\n",
              " 'scornful': 860,\n",
              " 'secret': 861,\n",
              " 'see': 862,\n",
              " 'seemed': 863,\n",
              " 'seen': 864,\n",
              " 'self-confident': 865,\n",
              " 'send': 866,\n",
              " 'sensation': 867,\n",
              " 'sensitive': 868,\n",
              " 'sent': 869,\n",
              " 'serious': 870,\n",
              " 'set': 871,\n",
              " 'sex': 872,\n",
              " 'shade': 873,\n",
              " 'shaking': 874,\n",
              " 'shall': 875,\n",
              " 'she': 876,\n",
              " 'shirked': 877,\n",
              " 'short': 878,\n",
              " 'should': 879,\n",
              " 'shoulder': 880,\n",
              " 'shoulders': 881,\n",
              " 'show': 882,\n",
              " 'showed': 883,\n",
              " 'showy': 884,\n",
              " 'shrug': 885,\n",
              " 'shrugged': 886,\n",
              " 'sight': 887,\n",
              " 'sign': 888,\n",
              " 'silent': 889,\n",
              " 'silver': 890,\n",
              " 'similar': 891,\n",
              " 'simpleton': 892,\n",
              " 'simplifications': 893,\n",
              " 'simply': 894,\n",
              " 'since': 895,\n",
              " 'single': 896,\n",
              " 'sitter': 897,\n",
              " 'sitters': 898,\n",
              " 'sketch': 899,\n",
              " 'skill': 900,\n",
              " 'slight': 901,\n",
              " 'slightly': 902,\n",
              " 'slowly': 903,\n",
              " 'small': 904,\n",
              " 'smile': 905,\n",
              " 'smiling': 906,\n",
              " 'sneer': 907,\n",
              " 'so': 908,\n",
              " 'solace': 909,\n",
              " 'some': 910,\n",
              " 'somebody': 911,\n",
              " 'something': 912,\n",
              " 'spacious': 913,\n",
              " 'spaniel': 914,\n",
              " 'speaking-tubes': 915,\n",
              " 'speculations': 916,\n",
              " 'spite': 917,\n",
              " 'splash': 918,\n",
              " 'square': 919,\n",
              " 'stairs': 920,\n",
              " 'stammer': 921,\n",
              " 'stand': 922,\n",
              " 'standing': 923,\n",
              " 'started': 924,\n",
              " 'stay': 925,\n",
              " 'still': 926,\n",
              " 'stocked': 927,\n",
              " 'stood': 928,\n",
              " 'stopped': 929,\n",
              " 'stopping': 930,\n",
              " 'straddling': 931,\n",
              " 'straight': 932,\n",
              " 'strain': 933,\n",
              " 'straining': 934,\n",
              " 'strange': 935,\n",
              " 'straw': 936,\n",
              " 'stream': 937,\n",
              " 'stroke': 938,\n",
              " 'strokes': 939,\n",
              " 'strolled': 940,\n",
              " 'strongest': 941,\n",
              " 'strongly': 942,\n",
              " 'struck': 943,\n",
              " 'studio': 944,\n",
              " 'stuff': 945,\n",
              " 'subject': 946,\n",
              " 'substantial': 947,\n",
              " 'suburban': 948,\n",
              " 'such': 949,\n",
              " 'suddenly': 950,\n",
              " 'suffered': 951,\n",
              " 'sugar': 952,\n",
              " 'suggested': 953,\n",
              " 'sunburn': 954,\n",
              " 'sunburnt': 955,\n",
              " 'sunlit': 956,\n",
              " 'superb': 957,\n",
              " 'sure': 958,\n",
              " 'surest': 959,\n",
              " 'surface': 960,\n",
              " 'surprise': 961,\n",
              " 'surprised': 962,\n",
              " 'surrounded': 963,\n",
              " 'suspected': 964,\n",
              " 'sweetly': 965,\n",
              " 'sweetness': 966,\n",
              " 'swelling': 967,\n",
              " 'swept': 968,\n",
              " 'swum': 969,\n",
              " 't': 970,\n",
              " 'table': 971,\n",
              " 'take': 972,\n",
              " 'taken': 973,\n",
              " 'talking': 974,\n",
              " 'tea': 975,\n",
              " 'tears': 976,\n",
              " 'technicalities': 977,\n",
              " 'technique': 978,\n",
              " 'tell': 979,\n",
              " 'tells': 980,\n",
              " 'tempting': 981,\n",
              " 'terra-cotta': 982,\n",
              " 'terrace': 983,\n",
              " 'terraces': 984,\n",
              " 'terribly': 985,\n",
              " 'than': 986,\n",
              " 'that': 987,\n",
              " 'the': 988,\n",
              " 'their': 989,\n",
              " 'them': 990,\n",
              " 'then': 991,\n",
              " 'there': 992,\n",
              " 'therefore': 993,\n",
              " 'they': 994,\n",
              " 'thin': 995,\n",
              " 'thing': 996,\n",
              " 'things': 997,\n",
              " 'think': 998,\n",
              " 'this': 999,\n",
              " ...}"
            ]
          },
          "metadata": {},
          "execution_count": 17
        }
      ]
    },
    {
      "cell_type": "markdown",
      "source": [
        "Above are all the unique words in our sample vocabulary"
      ],
      "metadata": {
        "id": "-LZumi9PPkfO"
      }
    },
    {
      "cell_type": "code",
      "source": [
        "# Now you can find the token Id for any chunk\n",
        "vocab[\"Jack\"]"
      ],
      "metadata": {
        "colab": {
          "base_uri": "https://localhost:8080/"
        },
        "id": "cPTBdZCLdea4",
        "outputId": "42b4fec1-db3a-47ae-eede-dca25906baa4"
      },
      "execution_count": 19,
      "outputs": [
        {
          "output_type": "execute_result",
          "data": {
            "text/plain": [
              "57"
            ]
          },
          "metadata": {},
          "execution_count": 19
        }
      ]
    },
    {
      "cell_type": "code",
      "source": [
        "# We can create the ocabulary mapping and fetch the mapped text for the given token id\n",
        "int_to_str = {i:s for s, i in vocab.items()}\n",
        "int_to_str[57]"
      ],
      "metadata": {
        "colab": {
          "base_uri": "https://localhost:8080/",
          "height": 35
        },
        "id": "_Ui9N2m7deHl",
        "outputId": "ae63c719-2150-4d31-81a8-8ef10db7c562"
      },
      "execution_count": 21,
      "outputs": [
        {
          "output_type": "execute_result",
          "data": {
            "text/plain": [
              "'Jack'"
            ],
            "application/vnd.google.colaboratory.intrinsic+json": {
              "type": "string"
            }
          },
          "metadata": {},
          "execution_count": 21
        }
      ]
    },
    {
      "cell_type": "code",
      "source": [
        "# Let's now create a simple tokenizer\n",
        "class SimpleTokenizerV1:\n",
        "  # constructor with vocabulary. It has the mapping from chunks to token ids and the reverse\n",
        "  def __init__(self, vocab):\n",
        "    self.str_to_int = vocab\n",
        "    self.int_to_str = {i:s for s, i in vocab.items()}\n",
        "\n",
        "  # Encode function to generate the token ids for the given text which uses the vocab from the constructor\n",
        "  def encode(self, text):\n",
        "    preprocessed = re.split(r'([,.:;?_!\"()\\']|--|\\s)', text)\n",
        "\n",
        "    preprocessed = [item.strip() for item in preprocessed if item.strip()]\n",
        "    ids = [self.str_to_int[s] for s in preprocessed]\n",
        "    return ids\n",
        "\n",
        "  # Decode function which recreates the text by mapping token Ids to text chunks which uses the reverse vocab from the constructor\n",
        "  def decode(self, ids):\n",
        "    text = \" \".join([self.int_to_str[i] for i in ids])\n",
        "    # Replace spaces before the specified punctuations\n",
        "    text = re.sub(r'\\s+([,.?!\"()\\'])', r'\\1', text)\n",
        "    return text"
      ],
      "metadata": {
        "id": "uc3OiwTnaPv8"
      },
      "execution_count": 22,
      "outputs": []
    },
    {
      "cell_type": "code",
      "source": [
        "# create the object of the above class\n",
        "tokenizer = SimpleTokenizerV1(vocab)"
      ],
      "metadata": {
        "id": "xvUOw-EOdwIT"
      },
      "execution_count": 23,
      "outputs": []
    },
    {
      "cell_type": "code",
      "source": [
        "# Sample text for testing\n",
        "text = \"\"\"\"It's the last he painted, you know,\"\n",
        "           Mrs. Gisburn said with pardonable pride.\"\"\""
      ],
      "metadata": {
        "id": "TK1Og6r7eAv9"
      },
      "execution_count": 24,
      "outputs": []
    },
    {
      "cell_type": "code",
      "source": [
        "# Let's see the token Ids for the above text\n",
        "ids = tokenizer.encode(text)\n",
        "print(ids)"
      ],
      "metadata": {
        "colab": {
          "base_uri": "https://localhost:8080/"
        },
        "id": "qiPZwu5teV69",
        "outputId": "c54c5e50-f480-4710-82dc-58f0a7da982e"
      },
      "execution_count": 25,
      "outputs": [
        {
          "output_type": "stream",
          "name": "stdout",
          "text": [
            "[1, 56, 2, 850, 988, 602, 533, 746, 5, 1126, 596, 5, 1, 67, 7, 38, 851, 1108, 754, 793, 7]\n"
          ]
        }
      ]
    },
    {
      "cell_type": "code",
      "source": [
        "# Now decode the token ids to original text\n",
        "tokenizer.decode(ids)"
      ],
      "metadata": {
        "colab": {
          "base_uri": "https://localhost:8080/",
          "height": 35
        },
        "id": "cnkunwWxeaBV",
        "outputId": "82f4dcdc-fe11-40b0-faf9-b363fb886858"
      },
      "execution_count": 26,
      "outputs": [
        {
          "output_type": "execute_result",
          "data": {
            "text/plain": [
              "'\" It\\' s the last he painted, you know,\" Mrs. Gisburn said with pardonable pride.'"
            ],
            "application/vnd.google.colaboratory.intrinsic+json": {
              "type": "string"
            }
          },
          "metadata": {},
          "execution_count": 26
        }
      ]
    },
    {
      "cell_type": "markdown",
      "source": [
        "You can see on translation there are some differences like additional space etc. because it is just the basic tokenizer to understand how it works. In LLMs we have ready packages which does this for us."
      ],
      "metadata": {
        "id": "RXpwNG4NRcxj"
      }
    },
    {
      "cell_type": "code",
      "source": [],
      "metadata": {
        "id": "Hx1LCg1NR4Re"
      },
      "execution_count": null,
      "outputs": []
    },
    {
      "cell_type": "markdown",
      "source": [
        "Let's see how unknown words were handles in older versions"
      ],
      "metadata": {
        "id": "735STnemR6cw"
      }
    },
    {
      "cell_type": "code",
      "source": [
        "# Sample text that has words which does not include in our sample vocabulary.\n",
        "text = \"Hello, do you like tea. is this-- a test?\"\n",
        "\n",
        "# !The below code breaks\n",
        "tokenizer.encode(text)"
      ],
      "metadata": {
        "colab": {
          "base_uri": "https://localhost:8080/",
          "height": 297
        },
        "id": "F0_t5Ffbep3P",
        "outputId": "548d4309-9779-4898-907f-573af2c414ae"
      },
      "execution_count": 28,
      "outputs": [
        {
          "output_type": "error",
          "ename": "KeyError",
          "evalue": "'Hello'",
          "traceback": [
            "\u001b[0;31m---------------------------------------------------------------------------\u001b[0m",
            "\u001b[0;31mKeyError\u001b[0m                                  Traceback (most recent call last)",
            "\u001b[0;32m/tmp/ipython-input-2139911315.py\u001b[0m in \u001b[0;36m<cell line: 0>\u001b[0;34m()\u001b[0m\n\u001b[1;32m      3\u001b[0m \u001b[0;34m\u001b[0m\u001b[0m\n\u001b[1;32m      4\u001b[0m \u001b[0;31m# !The below code breaks\u001b[0m\u001b[0;34m\u001b[0m\u001b[0;34m\u001b[0m\u001b[0m\n\u001b[0;32m----> 5\u001b[0;31m \u001b[0mtokenizer\u001b[0m\u001b[0;34m.\u001b[0m\u001b[0mencode\u001b[0m\u001b[0;34m(\u001b[0m\u001b[0mtext\u001b[0m\u001b[0;34m)\u001b[0m\u001b[0;34m\u001b[0m\u001b[0;34m\u001b[0m\u001b[0m\n\u001b[0m",
            "\u001b[0;32m/tmp/ipython-input-1115935142.py\u001b[0m in \u001b[0;36mencode\u001b[0;34m(self, text)\u001b[0m\n\u001b[1;32m     11\u001b[0m \u001b[0;34m\u001b[0m\u001b[0m\n\u001b[1;32m     12\u001b[0m     \u001b[0mpreprocessed\u001b[0m \u001b[0;34m=\u001b[0m \u001b[0;34m[\u001b[0m\u001b[0mitem\u001b[0m\u001b[0;34m.\u001b[0m\u001b[0mstrip\u001b[0m\u001b[0;34m(\u001b[0m\u001b[0;34m)\u001b[0m \u001b[0;32mfor\u001b[0m \u001b[0mitem\u001b[0m \u001b[0;32min\u001b[0m \u001b[0mpreprocessed\u001b[0m \u001b[0;32mif\u001b[0m \u001b[0mitem\u001b[0m\u001b[0;34m.\u001b[0m\u001b[0mstrip\u001b[0m\u001b[0;34m(\u001b[0m\u001b[0;34m)\u001b[0m\u001b[0;34m]\u001b[0m\u001b[0;34m\u001b[0m\u001b[0;34m\u001b[0m\u001b[0m\n\u001b[0;32m---> 13\u001b[0;31m     \u001b[0mids\u001b[0m \u001b[0;34m=\u001b[0m \u001b[0;34m[\u001b[0m\u001b[0mself\u001b[0m\u001b[0;34m.\u001b[0m\u001b[0mstr_to_int\u001b[0m\u001b[0;34m[\u001b[0m\u001b[0ms\u001b[0m\u001b[0;34m]\u001b[0m \u001b[0;32mfor\u001b[0m \u001b[0ms\u001b[0m \u001b[0;32min\u001b[0m \u001b[0mpreprocessed\u001b[0m\u001b[0;34m]\u001b[0m\u001b[0;34m\u001b[0m\u001b[0;34m\u001b[0m\u001b[0m\n\u001b[0m\u001b[1;32m     14\u001b[0m     \u001b[0;32mreturn\u001b[0m \u001b[0mids\u001b[0m\u001b[0;34m\u001b[0m\u001b[0;34m\u001b[0m\u001b[0m\n\u001b[1;32m     15\u001b[0m \u001b[0;34m\u001b[0m\u001b[0m\n",
            "\u001b[0;31mKeyError\u001b[0m: 'Hello'"
          ]
        }
      ]
    },
    {
      "cell_type": "code",
      "source": [
        "# Let's extend our token list to include a special token for 'endoftext' and unk 'token'\n",
        "all_tokens = sorted(list(set(preprocessed)))\n",
        "all_tokens.extend([\"|endoftext|>\", \"<|unk|>\"])\n",
        "\n",
        "# regenrate vocabulary to include special tokens defined above\n",
        "vocab = {token:integer for integer, token in enumerate(all_tokens)}"
      ],
      "metadata": {
        "id": "6oxiLuA-TNav"
      },
      "execution_count": 29,
      "outputs": []
    },
    {
      "cell_type": "code",
      "source": [
        "# Ensuring legth is increased by 2\n",
        "len(vocab.items())"
      ],
      "metadata": {
        "colab": {
          "base_uri": "https://localhost:8080/"
        },
        "id": "GJgon0Q6UGl2",
        "outputId": "751771af-8dfc-43fc-a8ae-9c50ebecdad3"
      },
      "execution_count": 30,
      "outputs": [
        {
          "output_type": "execute_result",
          "data": {
            "text/plain": [
              "1132"
            ]
          },
          "metadata": {},
          "execution_count": 30
        }
      ]
    },
    {
      "cell_type": "code",
      "source": [
        "# Let's see the last few entries so we can see the new tokens added\n",
        "for i, item in enumerate(list(vocab.items())[-5:]):\n",
        "  print(item)"
      ],
      "metadata": {
        "colab": {
          "base_uri": "https://localhost:8080/"
        },
        "id": "N9YVtdhJUeEh",
        "outputId": "d127392a-2aa2-4c99-ebbd-fa4143a3ee2a"
      },
      "execution_count": 32,
      "outputs": [
        {
          "output_type": "stream",
          "name": "stdout",
          "text": [
            "('younger', 1127)\n",
            "('your', 1128)\n",
            "('yourself', 1129)\n",
            "('|endoftext|>', 1130)\n",
            "('<|unk|>', 1131)\n"
          ]
        }
      ]
    },
    {
      "cell_type": "code",
      "source": [
        "# rewriting the simple tokenizer class to handle unknown words\n",
        "class SimpleTokenizerV2:\n",
        "  def __init__(self, vocab):\n",
        "    self.str_to_int = vocab\n",
        "    self.int_to_str = {i:s for s, i in vocab.items()}\n",
        "\n",
        "  def encode(self, text):\n",
        "    preprocessed = re.split(r'([,.:;?_!\"()\\']|--|\\s)', text)\n",
        "\n",
        "    preprocessed = [item.strip() for item in preprocessed if item.strip()]\n",
        "\n",
        "    # Handle unknown words with 'unk' token\n",
        "    preprocessed = [item if item in self.str_to_int else \"<|unk|>\" for item in preprocessed]\n",
        "\n",
        "    ids = [self.str_to_int[s] for s in preprocessed]\n",
        "    return ids\n",
        "\n",
        "  def decode(self, ids):\n",
        "    text = \" \".join([self.int_to_str[i] for i in ids])\n",
        "    # Replace spaces before the specified punctuations\n",
        "    text = re.sub(r'\\s+([,.?!\"()\\'])', r'\\1', text)\n",
        "    return text"
      ],
      "metadata": {
        "id": "IqHit2fYUqc_"
      },
      "execution_count": 33,
      "outputs": []
    },
    {
      "cell_type": "code",
      "source": [
        "# create object of the above class\n",
        "tokenizer = SimpleTokenizerV2( vocab)"
      ],
      "metadata": {
        "id": "tVJY_uSdVsbN"
      },
      "execution_count": 34,
      "outputs": []
    },
    {
      "cell_type": "code",
      "source": [
        "# encode the above text which threw error before adding unk token\n",
        "tokenizer.encode(text)"
      ],
      "metadata": {
        "colab": {
          "base_uri": "https://localhost:8080/"
        },
        "id": "uC-PG7OuVzfZ",
        "outputId": "6e7d2949-de42-4aed-a7b3-13039288a592"
      },
      "execution_count": 35,
      "outputs": [
        {
          "output_type": "execute_result",
          "data": {
            "text/plain": [
              "[1131, 5, 355, 1126, 628, 975, 7, 584, 999, 6, 115, 1131, 10]"
            ]
          },
          "metadata": {},
          "execution_count": 35
        }
      ]
    },
    {
      "cell_type": "code",
      "source": [
        "# Decode the text\n",
        "tokenizer.decode(tokenizer.encode(text))"
      ],
      "metadata": {
        "colab": {
          "base_uri": "https://localhost:8080/",
          "height": 35
        },
        "id": "qZaMTFyBV1tI",
        "outputId": "bf1a2219-b939-4b27-9ee2-51a7bae0a0a4"
      },
      "execution_count": 36,
      "outputs": [
        {
          "output_type": "execute_result",
          "data": {
            "text/plain": [
              "'<|unk|>, do you like tea. is this -- a <|unk|>?'"
            ],
            "application/vnd.google.colaboratory.intrinsic+json": {
              "type": "string"
            }
          },
          "metadata": {},
          "execution_count": 36
        }
      ]
    },
    {
      "cell_type": "markdown",
      "source": [
        "Now it handles the unknown words but we can see same token making it difficult to distinguish between two unknown chunks"
      ],
      "metadata": {
        "id": "2l_OdCESThsc"
      }
    },
    {
      "cell_type": "code",
      "source": [],
      "metadata": {
        "id": "_HUOaqq9TuEE"
      },
      "execution_count": null,
      "outputs": []
    },
    {
      "cell_type": "markdown",
      "source": [
        "Let's see how LLMs handle this using Byte Pair Encoding. tiktoken is openai  library that provides byte pair encoding in tokenizer. Let's use it and see how it works"
      ],
      "metadata": {
        "id": "FW2nOpB3TzIt"
      }
    },
    {
      "cell_type": "code",
      "source": [
        "# import the tiktoken package\n",
        "import tiktoken"
      ],
      "metadata": {
        "id": "WDmMbN0pWEV7"
      },
      "execution_count": 39,
      "outputs": []
    },
    {
      "cell_type": "code",
      "source": [
        "# Just checking the version\n",
        "tiktoken.__version__"
      ],
      "metadata": {
        "colab": {
          "base_uri": "https://localhost:8080/",
          "height": 35
        },
        "id": "Q0_Gr9gJW-bs",
        "outputId": "c58cc496-b1cb-4a83-f3d7-cb2e1d8655cf"
      },
      "execution_count": 40,
      "outputs": [
        {
          "output_type": "execute_result",
          "data": {
            "text/plain": [
              "'0.11.0'"
            ],
            "application/vnd.google.colaboratory.intrinsic+json": {
              "type": "string"
            }
          },
          "metadata": {},
          "execution_count": 40
        }
      ]
    },
    {
      "cell_type": "code",
      "source": [
        "#  we are going to use gpt 2 model tokenizer\n",
        "tokenizer = tiktoken.get_encoding(\"gpt2\")"
      ],
      "metadata": {
        "id": "V66b88wTXI0A"
      },
      "execution_count": 45,
      "outputs": []
    },
    {
      "cell_type": "code",
      "source": [
        "# let's encode a simple text\n",
        "tokenizer.encode(\"Hello world\")"
      ],
      "metadata": {
        "colab": {
          "base_uri": "https://localhost:8080/"
        },
        "id": "FRR4LcxmXTkc",
        "outputId": "4d887f53-0f0e-4876-8ffd-fe17ecd8a417"
      },
      "execution_count": 46,
      "outputs": [
        {
          "output_type": "execute_result",
          "data": {
            "text/plain": [
              "[15496, 995]"
            ]
          },
          "metadata": {},
          "execution_count": 46
        }
      ]
    },
    {
      "cell_type": "code",
      "source": [
        "# Decode\n",
        "tokenizer.decode(tokenizer.encode(\"Hello world\"))"
      ],
      "metadata": {
        "colab": {
          "base_uri": "https://localhost:8080/",
          "height": 35
        },
        "id": "iKtT5o4VXbec",
        "outputId": "461ee6c9-7d05-43f7-da55-c1963c1cd1e8"
      },
      "execution_count": 47,
      "outputs": [
        {
          "output_type": "execute_result",
          "data": {
            "text/plain": [
              "'Hello world'"
            ],
            "application/vnd.google.colaboratory.intrinsic+json": {
              "type": "string"
            }
          },
          "metadata": {},
          "execution_count": 47
        }
      ]
    },
    {
      "cell_type": "code",
      "source": [
        "# Let's try some challenging text with unknown word\n",
        "text = (\n",
        "    \"Hello, do you like tea? <|endoftext|> In the sunlit terraces\"\n",
        "    \"of sommeunknownPlacesddfd.\"\n",
        ")\n",
        "\n",
        "# we have an option to provide special token\n",
        "tokenizer.encode(text, allowed_special={\"<|endoftext|>\"})"
      ],
      "metadata": {
        "colab": {
          "base_uri": "https://localhost:8080/"
        },
        "id": "dBQik1NIXeZT",
        "outputId": "c73fb014-1f23-4eff-d0e4-37dfa7752bff"
      },
      "execution_count": 52,
      "outputs": [
        {
          "output_type": "execute_result",
          "data": {
            "text/plain": [
              "[15496,\n",
              " 11,\n",
              " 466,\n",
              " 345,\n",
              " 588,\n",
              " 8887,\n",
              " 30,\n",
              " 220,\n",
              " 50256,\n",
              " 554,\n",
              " 262,\n",
              " 4252,\n",
              " 18250,\n",
              " 8812,\n",
              " 2114,\n",
              " 1659,\n",
              " 3870,\n",
              " 1326,\n",
              " 34680,\n",
              " 3646,\n",
              " 2114,\n",
              " 1860,\n",
              " 16344,\n",
              " 13]"
            ]
          },
          "metadata": {},
          "execution_count": 52
        }
      ]
    },
    {
      "cell_type": "code",
      "source": [
        "tokenizer.decode(tokenizer.encode(text, allowed_special={\"<|endoftext|>\"}))"
      ],
      "metadata": {
        "colab": {
          "base_uri": "https://localhost:8080/",
          "height": 35
        },
        "id": "3SZsLzJgbIvZ",
        "outputId": "2feb3835-053b-4053-a390-14246ccf9ce2"
      },
      "execution_count": 53,
      "outputs": [
        {
          "output_type": "execute_result",
          "data": {
            "text/plain": [
              "'Hello, do you like tea? <|endoftext|> In the sunlit terracesof sommeunknownPlacesddfd.'"
            ],
            "application/vnd.google.colaboratory.intrinsic+json": {
              "type": "string"
            }
          },
          "metadata": {},
          "execution_count": 53
        }
      ]
    },
    {
      "cell_type": "markdown",
      "source": [
        "That works!!"
      ],
      "metadata": {
        "id": "r8qak3R_Z7bz"
      }
    },
    {
      "cell_type": "code",
      "source": [],
      "metadata": {
        "id": "6-3qc8M3P4gN"
      },
      "execution_count": 48,
      "outputs": []
    }
  ]
}